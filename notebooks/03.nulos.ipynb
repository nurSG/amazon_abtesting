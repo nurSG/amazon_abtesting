{
 "cells": [
  {
   "cell_type": "markdown",
   "id": "d63afe13",
   "metadata": {},
   "source": [
    "## Nulos a gestionar\n",
    "- **Price** -> tiene 40 nulos(2%)\n",
    "- **Discount** -> tiene 40 nulos(2%)\n",
    "- **Payment Method** -> tiene 1753 nulos (87.65%). \n",
    "- **Shipping Method** -> tiene 1753 nulos (87.65%).\n",
    "- **Customer Age** -> tiene 40 nulos (2%)\n",
    "- **Cupon Used** -> tiene 1753 nulos (87.65%)"
   ]
  },
  {
   "cell_type": "code",
   "execution_count": 42,
   "id": "98f297d7",
   "metadata": {},
   "outputs": [],
   "source": [
    "# Tratamiento de datos\n",
    "import pandas as pd\n",
    "pd.set_option(\"display.max_columns\", None)\n",
    "from sklearn.experimental import enable_iterative_imputer\n",
    "from sklearn.impute import KNNImputer, IterativeImputer\n",
    "\n",
    "\n",
    "# Visualización de datos\n",
    "import matplotlib.pyplot as plt\n",
    "import seaborn as sns"
   ]
  },
  {
   "cell_type": "code",
   "execution_count": 2,
   "id": "4c44b01e",
   "metadata": {},
   "outputs": [],
   "source": [
    "df_o = pd.read_csv('../data/data_limpios.csv') # df_o es el original"
   ]
  },
  {
   "cell_type": "code",
   "execution_count": 3,
   "id": "af958623",
   "metadata": {},
   "outputs": [],
   "source": [
    "df = df_o.copy()"
   ]
  },
  {
   "cell_type": "code",
   "execution_count": 4,
   "id": "722385fd",
   "metadata": {},
   "outputs": [
    {
     "data": {
      "text/plain": [
       "user_id              0.00\n",
       "group                0.00\n",
       "visit_date           0.00\n",
       "conversion           0.00\n",
       "product_category     0.00\n",
       "product_id           0.00\n",
       "product_name         0.00\n",
       "quantity             0.00\n",
       "price                2.00\n",
       "discount             2.00\n",
       "total_value          0.00\n",
       "payment_method      87.65\n",
       "shipping_method     87.65\n",
       "region               0.00\n",
       "customer_age         2.00\n",
       "customer_gender      0.00\n",
       "device               0.00\n",
       "session_duration     0.00\n",
       "coupon_used         87.65\n",
       "browser              0.00\n",
       "referral_source      0.00\n",
       "conversion_str       0.00\n",
       "dtype: float64"
      ]
     },
     "execution_count": 4,
     "metadata": {},
     "output_type": "execute_result"
    }
   ],
   "source": [
    "df.isnull().mean()*100"
   ]
  },
  {
   "cell_type": "code",
   "execution_count": 5,
   "id": "d75deead",
   "metadata": {},
   "outputs": [],
   "source": [
    "df_nulos = df.loc[:, df.isnull().sum() > 0]"
   ]
  },
  {
   "cell_type": "code",
   "execution_count": 6,
   "id": "b45e1cbb",
   "metadata": {},
   "outputs": [
    {
     "data": {
      "text/html": [
       "<div>\n",
       "<style scoped>\n",
       "    .dataframe tbody tr th:only-of-type {\n",
       "        vertical-align: middle;\n",
       "    }\n",
       "\n",
       "    .dataframe tbody tr th {\n",
       "        vertical-align: top;\n",
       "    }\n",
       "\n",
       "    .dataframe thead th {\n",
       "        text-align: right;\n",
       "    }\n",
       "</style>\n",
       "<table border=\"1\" class=\"dataframe\">\n",
       "  <thead>\n",
       "    <tr style=\"text-align: right;\">\n",
       "      <th></th>\n",
       "      <th>price</th>\n",
       "      <th>discount</th>\n",
       "      <th>payment_method</th>\n",
       "      <th>shipping_method</th>\n",
       "      <th>customer_age</th>\n",
       "      <th>coupon_used</th>\n",
       "    </tr>\n",
       "  </thead>\n",
       "  <tbody>\n",
       "    <tr>\n",
       "      <th>0</th>\n",
       "      <td>41.27</td>\n",
       "      <td>0.29</td>\n",
       "      <td>NaN</td>\n",
       "      <td>NaN</td>\n",
       "      <td>64.0</td>\n",
       "      <td>NaN</td>\n",
       "    </tr>\n",
       "    <tr>\n",
       "      <th>1</th>\n",
       "      <td>45.45</td>\n",
       "      <td>0.22</td>\n",
       "      <td>NaN</td>\n",
       "      <td>NaN</td>\n",
       "      <td>19.0</td>\n",
       "      <td>NaN</td>\n",
       "    </tr>\n",
       "    <tr>\n",
       "      <th>2</th>\n",
       "      <td>64.81</td>\n",
       "      <td>0.08</td>\n",
       "      <td>NaN</td>\n",
       "      <td>NaN</td>\n",
       "      <td>69.0</td>\n",
       "      <td>NaN</td>\n",
       "    </tr>\n",
       "    <tr>\n",
       "      <th>3</th>\n",
       "      <td>189.40</td>\n",
       "      <td>0.08</td>\n",
       "      <td>credit_card</td>\n",
       "      <td>express</td>\n",
       "      <td>53.0</td>\n",
       "      <td>no</td>\n",
       "    </tr>\n",
       "    <tr>\n",
       "      <th>4</th>\n",
       "      <td>19.82</td>\n",
       "      <td>0.19</td>\n",
       "      <td>NaN</td>\n",
       "      <td>NaN</td>\n",
       "      <td>18.0</td>\n",
       "      <td>NaN</td>\n",
       "    </tr>\n",
       "    <tr>\n",
       "      <th>...</th>\n",
       "      <td>...</td>\n",
       "      <td>...</td>\n",
       "      <td>...</td>\n",
       "      <td>...</td>\n",
       "      <td>...</td>\n",
       "      <td>...</td>\n",
       "    </tr>\n",
       "    <tr>\n",
       "      <th>1995</th>\n",
       "      <td>177.49</td>\n",
       "      <td>0.20</td>\n",
       "      <td>NaN</td>\n",
       "      <td>NaN</td>\n",
       "      <td>25.0</td>\n",
       "      <td>NaN</td>\n",
       "    </tr>\n",
       "    <tr>\n",
       "      <th>1996</th>\n",
       "      <td>109.75</td>\n",
       "      <td>0.20</td>\n",
       "      <td>NaN</td>\n",
       "      <td>NaN</td>\n",
       "      <td>58.0</td>\n",
       "      <td>NaN</td>\n",
       "    </tr>\n",
       "    <tr>\n",
       "      <th>1997</th>\n",
       "      <td>236.05</td>\n",
       "      <td>0.15</td>\n",
       "      <td>NaN</td>\n",
       "      <td>NaN</td>\n",
       "      <td>62.0</td>\n",
       "      <td>NaN</td>\n",
       "    </tr>\n",
       "    <tr>\n",
       "      <th>1998</th>\n",
       "      <td>22.67</td>\n",
       "      <td>0.11</td>\n",
       "      <td>NaN</td>\n",
       "      <td>NaN</td>\n",
       "      <td>46.0</td>\n",
       "      <td>NaN</td>\n",
       "    </tr>\n",
       "    <tr>\n",
       "      <th>1999</th>\n",
       "      <td>47.05</td>\n",
       "      <td>0.22</td>\n",
       "      <td>NaN</td>\n",
       "      <td>NaN</td>\n",
       "      <td>37.0</td>\n",
       "      <td>NaN</td>\n",
       "    </tr>\n",
       "  </tbody>\n",
       "</table>\n",
       "<p>2000 rows × 6 columns</p>\n",
       "</div>"
      ],
      "text/plain": [
       "       price  discount payment_method shipping_method  customer_age  \\\n",
       "0      41.27      0.29            NaN             NaN          64.0   \n",
       "1      45.45      0.22            NaN             NaN          19.0   \n",
       "2      64.81      0.08            NaN             NaN          69.0   \n",
       "3     189.40      0.08    credit_card         express          53.0   \n",
       "4      19.82      0.19            NaN             NaN          18.0   \n",
       "...      ...       ...            ...             ...           ...   \n",
       "1995  177.49      0.20            NaN             NaN          25.0   \n",
       "1996  109.75      0.20            NaN             NaN          58.0   \n",
       "1997  236.05      0.15            NaN             NaN          62.0   \n",
       "1998   22.67      0.11            NaN             NaN          46.0   \n",
       "1999   47.05      0.22            NaN             NaN          37.0   \n",
       "\n",
       "     coupon_used  \n",
       "0            NaN  \n",
       "1            NaN  \n",
       "2            NaN  \n",
       "3             no  \n",
       "4            NaN  \n",
       "...          ...  \n",
       "1995         NaN  \n",
       "1996         NaN  \n",
       "1997         NaN  \n",
       "1998         NaN  \n",
       "1999         NaN  \n",
       "\n",
       "[2000 rows x 6 columns]"
      ]
     },
     "execution_count": 6,
     "metadata": {},
     "output_type": "execute_result"
    }
   ],
   "source": [
    "df_nulos"
   ]
  },
  {
   "cell_type": "markdown",
   "id": "306e8431",
   "metadata": {},
   "source": [
    "## Nulos Categóricas"
   ]
  },
  {
   "cell_type": "code",
   "execution_count": 7,
   "id": "0f3f668d",
   "metadata": {},
   "outputs": [
    {
     "name": "stdout",
     "output_type": "stream",
     "text": [
      "PAYMENT_METHOD\n"
     ]
    },
    {
     "data": {
      "text/plain": [
       "payment_method\n",
       "bank_transfer       3.65\n",
       "credit_card         3.35\n",
       "paypal              2.85\n",
       "cash_on_delivery    2.50\n",
       "Name: count, dtype: float64"
      ]
     },
     "metadata": {},
     "output_type": "display_data"
    },
    {
     "name": "stdout",
     "output_type": "stream",
     "text": [
      "------------------------------------\n",
      "SHIPPING_METHOD\n"
     ]
    },
    {
     "data": {
      "text/plain": [
       "shipping_method\n",
       "express     4.50\n",
       "same_day    4.10\n",
       "standard    3.75\n",
       "Name: count, dtype: float64"
      ]
     },
     "metadata": {},
     "output_type": "display_data"
    },
    {
     "name": "stdout",
     "output_type": "stream",
     "text": [
      "------------------------------------\n",
      "COUPON_USED\n"
     ]
    },
    {
     "data": {
      "text/plain": [
       "coupon_used\n",
       "no     6.60\n",
       "yes    5.75\n",
       "Name: count, dtype: float64"
      ]
     },
     "metadata": {},
     "output_type": "display_data"
    },
    {
     "name": "stdout",
     "output_type": "stream",
     "text": [
      "------------------------------------\n"
     ]
    }
   ],
   "source": [
    "for col in df_nulos.select_dtypes(include='O').columns:\n",
    "  print(col.upper())\n",
    "  display(df[col].value_counts()/df.shape[0]*100)\n",
    "  print('------------------------------------')"
   ]
  },
  {
   "cell_type": "code",
   "execution_count": 8,
   "id": "a685a9ca",
   "metadata": {},
   "outputs": [
    {
     "data": {
      "text/plain": [
       "<Figure size 640x480 with 0 Axes>"
      ]
     },
     "metadata": {},
     "output_type": "display_data"
    }
   ],
   "source": [
    "def subplot_col_cat(dataframe):\n",
    "  # Seleccionar columnas categóricas\n",
    "  categorical_cols = dataframe.select_dtypes(include=['object','category']).columns\n",
    "  if len(categorical_cols) == 0:\n",
    "    return \"No hay columnas categóricas en el DataFrame\"\n",
    "    \n",
    "  \n",
    "  # Configurar el tamaño de la figura\n",
    "  num_cols = len(categorical_cols)\n",
    "  rows = (num_cols + 2) // 3 # calcular número de filas necesarias para 3 columnas por fila\n",
    "  fig, axes = plt.subplots(rows, 3, figsize= (15, rows*5))\n",
    "  axes=axes.flatten() # convertir los ejes a un array de un 1d plano para fácil iteración. Es decir, la posición [0,0] ahora es la posición [0], la [1,0] la 3\n",
    "\n",
    "  # Generar gráficos por cada columna categórica\n",
    "\n",
    "  for i, col in enumerate(categorical_cols): # hacemos un enumerate para que haya un índice que vaya en concordancia con los ejes de las gráficas; gráfico 0 eje 0, etc.\n",
    "    sns.countplot(data=dataframe, x = col, ax=axes[i], hue=col, palette='tab10', legend=False)\n",
    "    axes[i].set_title(f\"Distribución de {col}\")\n",
    "    axes[i].set_xlabel(col)\n",
    "    axes[i].set_ylabel(\"Frecuencia\")\n",
    "    axes[i].tick_params(axis='x', rotation= 90)\n",
    "\n",
    "# Eliminar ejes sobrantes si hay menos columnas que subplots:\n",
    "  for j in range(i + 1, len(axes)):\n",
    "    fig.delaxes(axes[j])\n",
    "\n",
    "# Ajustar diseño\n",
    "plt.tight_layout()\n",
    "plt.show()\n"
   ]
  },
  {
   "cell_type": "code",
   "execution_count": 9,
   "id": "dc19bca4",
   "metadata": {},
   "outputs": [
    {
     "data": {
      "image/png": "[encoded data removed]",
      "text/plain": [
       "<Figure size 1500x500 with 3 Axes>"
      ]
     },
     "metadata": {},
     "output_type": "display_data"
    }
   ],
   "source": [
    "subplot_col_cat(df_nulos)"
   ]
  },
  {
   "cell_type": "code",
   "execution_count": 10,
   "id": "2a789ca2",
   "metadata": {},
   "outputs": [
    {
     "data": {
      "text/plain": [
       "payment_method     87.65\n",
       "shipping_method    87.65\n",
       "coupon_used        87.65\n",
       "dtype: float64"
      ]
     },
     "execution_count": 10,
     "metadata": {},
     "output_type": "execute_result"
    }
   ],
   "source": [
    "df_nulos.select_dtypes(include='object').isnull().mean()*100"
   ]
  },
  {
   "cell_type": "markdown",
   "id": "fda70d25",
   "metadata": {},
   "source": [
    "Si nos fijamos en el DataFrame, parace ser que los nulos corresponden a los ususarios que no han realizado una compra(por eso no se indicar el payment_method por ej). Vamos a comprobarlo:"
   ]
  },
  {
   "cell_type": "code",
   "execution_count": 11,
   "id": "982d6300",
   "metadata": {},
   "outputs": [
    {
     "data": {
      "text/plain": [
       "user_id               0.000000\n",
       "group                 0.000000\n",
       "visit_date            0.000000\n",
       "conversion            0.000000\n",
       "product_category      0.000000\n",
       "product_id            0.000000\n",
       "product_name          0.000000\n",
       "quantity              0.000000\n",
       "price                 1.711352\n",
       "discount              1.939532\n",
       "total_value           0.000000\n",
       "payment_method      100.000000\n",
       "shipping_method     100.000000\n",
       "region                0.000000\n",
       "customer_age          2.110667\n",
       "customer_gender       0.000000\n",
       "device                0.000000\n",
       "session_duration      0.000000\n",
       "coupon_used         100.000000\n",
       "browser               0.000000\n",
       "referral_source       0.000000\n",
       "conversion_str        0.000000\n",
       "dtype: float64"
      ]
     },
     "execution_count": 11,
     "metadata": {},
     "output_type": "execute_result"
    }
   ],
   "source": [
    "df_nocompra = df[df['conversion']==0] # Conversion corresponda a la compra, por lo que los resgitros con 0 no han comprado\n",
    "df_nocompra.isnull().mean()*100"
   ]
  },
  {
   "cell_type": "markdown",
   "id": "00043221",
   "metadata": {},
   "source": [
    "Confirmamos que cuando no se compra todos son nulos. Si se compra hay nulos?"
   ]
  },
  {
   "cell_type": "code",
   "execution_count": 12,
   "id": "6295137c",
   "metadata": {},
   "outputs": [
    {
     "data": {
      "text/plain": [
       "user_id             0.000000\n",
       "group               0.000000\n",
       "visit_date          0.000000\n",
       "conversion          0.000000\n",
       "product_category    0.000000\n",
       "product_id          0.000000\n",
       "product_name        0.000000\n",
       "quantity            0.000000\n",
       "price               4.048583\n",
       "discount            2.429150\n",
       "total_value         0.000000\n",
       "payment_method      0.000000\n",
       "shipping_method     0.000000\n",
       "region              0.000000\n",
       "customer_age        1.214575\n",
       "customer_gender     0.000000\n",
       "device              0.000000\n",
       "session_duration    0.000000\n",
       "coupon_used         0.000000\n",
       "browser             0.000000\n",
       "referral_source     0.000000\n",
       "conversion_str      0.000000\n",
       "dtype: float64"
      ]
     },
     "execution_count": 12,
     "metadata": {},
     "output_type": "execute_result"
    }
   ],
   "source": [
    "df_nocompra = df[df['conversion']==1] \n",
    "df_nocompra.isnull().mean()*100"
   ]
  },
  {
   "cell_type": "markdown",
   "id": "c266bb52",
   "metadata": {},
   "source": [
    "De esta manera comprobamos que los nulos de las columnas categóricas son debido a que no se ha realizado la compra, por lo tanto, no tienen método de pago, de trasnporte ni se ha utilizado ningún cupón."
   ]
  },
  {
   "cell_type": "code",
   "execution_count": 13,
   "id": "16e7add1",
   "metadata": {},
   "outputs": [],
   "source": [
    "df.loc[:, df.select_dtypes(include='object').columns] =df.select_dtypes(include='object').fillna('no_conversion')"
   ]
  },
  {
   "cell_type": "code",
   "execution_count": 14,
   "id": "79d12f36",
   "metadata": {},
   "outputs": [
    {
     "data": {
      "text/plain": [
       "user_id             0.0\n",
       "group               0.0\n",
       "visit_date          0.0\n",
       "conversion          0.0\n",
       "product_category    0.0\n",
       "product_id          0.0\n",
       "product_name        0.0\n",
       "quantity            0.0\n",
       "price               2.0\n",
       "discount            2.0\n",
       "total_value         0.0\n",
       "payment_method      0.0\n",
       "shipping_method     0.0\n",
       "region              0.0\n",
       "customer_age        2.0\n",
       "customer_gender     0.0\n",
       "device              0.0\n",
       "session_duration    0.0\n",
       "coupon_used         0.0\n",
       "browser             0.0\n",
       "referral_source     0.0\n",
       "conversion_str      0.0\n",
       "dtype: float64"
      ]
     },
     "execution_count": 14,
     "metadata": {},
     "output_type": "execute_result"
    }
   ],
   "source": [
    "df.isnull().mean()*100"
   ]
  },
  {
   "cell_type": "markdown",
   "id": "f6ccf611",
   "metadata": {},
   "source": [
    "# Nulos numéricas"
   ]
  },
  {
   "cell_type": "code",
   "execution_count": 15,
   "id": "37e6c6bc",
   "metadata": {},
   "outputs": [
    {
     "data": {
      "text/html": [
       "<div>\n",
       "<style scoped>\n",
       "    .dataframe tbody tr th:only-of-type {\n",
       "        vertical-align: middle;\n",
       "    }\n",
       "\n",
       "    .dataframe tbody tr th {\n",
       "        vertical-align: top;\n",
       "    }\n",
       "\n",
       "    .dataframe thead th {\n",
       "        text-align: right;\n",
       "    }\n",
       "</style>\n",
       "<table border=\"1\" class=\"dataframe\">\n",
       "  <thead>\n",
       "    <tr style=\"text-align: right;\">\n",
       "      <th></th>\n",
       "      <th>count</th>\n",
       "      <th>mean</th>\n",
       "      <th>std</th>\n",
       "      <th>min</th>\n",
       "      <th>25%</th>\n",
       "      <th>50%</th>\n",
       "      <th>75%</th>\n",
       "      <th>max</th>\n",
       "    </tr>\n",
       "  </thead>\n",
       "  <tbody>\n",
       "    <tr>\n",
       "      <th>user_id</th>\n",
       "      <td>2000.0</td>\n",
       "      <td>1000.500000</td>\n",
       "      <td>577.494589</td>\n",
       "      <td>1.00</td>\n",
       "      <td>500.7500</td>\n",
       "      <td>1000.500</td>\n",
       "      <td>1500.250</td>\n",
       "      <td>2000.00</td>\n",
       "    </tr>\n",
       "    <tr>\n",
       "      <th>conversion</th>\n",
       "      <td>2000.0</td>\n",
       "      <td>0.123500</td>\n",
       "      <td>0.329093</td>\n",
       "      <td>0.00</td>\n",
       "      <td>0.0000</td>\n",
       "      <td>0.000</td>\n",
       "      <td>0.000</td>\n",
       "      <td>1.00</td>\n",
       "    </tr>\n",
       "    <tr>\n",
       "      <th>product_id</th>\n",
       "      <td>2000.0</td>\n",
       "      <td>1501.560000</td>\n",
       "      <td>287.188372</td>\n",
       "      <td>1000.00</td>\n",
       "      <td>1256.0000</td>\n",
       "      <td>1510.500</td>\n",
       "      <td>1746.500</td>\n",
       "      <td>1998.00</td>\n",
       "    </tr>\n",
       "    <tr>\n",
       "      <th>quantity</th>\n",
       "      <td>2000.0</td>\n",
       "      <td>0.371000</td>\n",
       "      <td>1.096339</td>\n",
       "      <td>0.00</td>\n",
       "      <td>0.0000</td>\n",
       "      <td>0.000</td>\n",
       "      <td>0.000</td>\n",
       "      <td>5.00</td>\n",
       "    </tr>\n",
       "    <tr>\n",
       "      <th>price</th>\n",
       "      <td>1960.0</td>\n",
       "      <td>184.572138</td>\n",
       "      <td>211.981538</td>\n",
       "      <td>5.02</td>\n",
       "      <td>46.0925</td>\n",
       "      <td>102.465</td>\n",
       "      <td>236.155</td>\n",
       "      <td>998.88</td>\n",
       "    </tr>\n",
       "    <tr>\n",
       "      <th>discount</th>\n",
       "      <td>1960.0</td>\n",
       "      <td>0.150224</td>\n",
       "      <td>0.086591</td>\n",
       "      <td>0.00</td>\n",
       "      <td>0.0800</td>\n",
       "      <td>0.150</td>\n",
       "      <td>0.220</td>\n",
       "      <td>0.30</td>\n",
       "    </tr>\n",
       "    <tr>\n",
       "      <th>total_value</th>\n",
       "      <td>2000.0</td>\n",
       "      <td>51.754830</td>\n",
       "      <td>234.575099</td>\n",
       "      <td>0.00</td>\n",
       "      <td>0.0000</td>\n",
       "      <td>0.000</td>\n",
       "      <td>0.000</td>\n",
       "      <td>2904.07</td>\n",
       "    </tr>\n",
       "    <tr>\n",
       "      <th>customer_age</th>\n",
       "      <td>1960.0</td>\n",
       "      <td>43.156633</td>\n",
       "      <td>15.361675</td>\n",
       "      <td>18.00</td>\n",
       "      <td>30.0000</td>\n",
       "      <td>42.000</td>\n",
       "      <td>56.000</td>\n",
       "      <td>70.00</td>\n",
       "    </tr>\n",
       "    <tr>\n",
       "      <th>session_duration</th>\n",
       "      <td>2000.0</td>\n",
       "      <td>15.633500</td>\n",
       "      <td>8.692235</td>\n",
       "      <td>1.00</td>\n",
       "      <td>8.0000</td>\n",
       "      <td>16.000</td>\n",
       "      <td>23.000</td>\n",
       "      <td>30.00</td>\n",
       "    </tr>\n",
       "  </tbody>\n",
       "</table>\n",
       "</div>"
      ],
      "text/plain": [
       "                   count         mean         std      min        25%  \\\n",
       "user_id           2000.0  1000.500000  577.494589     1.00   500.7500   \n",
       "conversion        2000.0     0.123500    0.329093     0.00     0.0000   \n",
       "product_id        2000.0  1501.560000  287.188372  1000.00  1256.0000   \n",
       "quantity          2000.0     0.371000    1.096339     0.00     0.0000   \n",
       "price             1960.0   184.572138  211.981538     5.02    46.0925   \n",
       "discount          1960.0     0.150224    0.086591     0.00     0.0800   \n",
       "total_value       2000.0    51.754830  234.575099     0.00     0.0000   \n",
       "customer_age      1960.0    43.156633   15.361675    18.00    30.0000   \n",
       "session_duration  2000.0    15.633500    8.692235     1.00     8.0000   \n",
       "\n",
       "                       50%       75%      max  \n",
       "user_id           1000.500  1500.250  2000.00  \n",
       "conversion           0.000     0.000     1.00  \n",
       "product_id        1510.500  1746.500  1998.00  \n",
       "quantity             0.000     0.000     5.00  \n",
       "price              102.465   236.155   998.88  \n",
       "discount             0.150     0.220     0.30  \n",
       "total_value          0.000     0.000  2904.07  \n",
       "customer_age        42.000    56.000    70.00  \n",
       "session_duration    16.000    23.000    30.00  "
      ]
     },
     "execution_count": 15,
     "metadata": {},
     "output_type": "execute_result"
    }
   ],
   "source": [
    "df.describe().T"
   ]
  },
  {
   "cell_type": "markdown",
   "id": "887ee871",
   "metadata": {},
   "source": [
    "Es posible que nos interese eliminar outliers y por lo tanto se generarán más nulos en nuestras columnas numéricas. De ahí observar los estadísticos."
   ]
  },
  {
   "cell_type": "markdown",
   "id": "41d9f78a",
   "metadata": {},
   "source": [
    "## Outliers"
   ]
  },
  {
   "cell_type": "code",
   "execution_count": 16,
   "id": "1b5cf926",
   "metadata": {},
   "outputs": [
    {
     "data": {
      "text/plain": [
       "<Figure size 640x480 with 0 Axes>"
      ]
     },
     "metadata": {},
     "output_type": "display_data"
    }
   ],
   "source": [
    "def subplot_col_num(dataframe):\n",
    "\n",
    "  col_nums = dataframe.select_dtypes(include= 'number').columns\n",
    "  num_graph = len(col_nums)\n",
    "  num_rows = (num_graph + 2) // 3 # calcular número de filas necesarias para 3 columnas por fila\n",
    "  fig, axes = plt.subplots(num_graph, 2, figsize= (15, num_rows*5))\n",
    "\n",
    "\n",
    "\n",
    "  for i, col in enumerate(col_nums):\n",
    "    sns.histplot(data=dataframe, x = col, ax=axes[i,0], bins=200)\n",
    "    axes[i,0].set_title(f\"Distribución de {col}\")\n",
    "    axes[i,0].set_xlabel(col)\n",
    "    axes[i,0].set_ylabel(\"Frecuencia\")\n",
    "\n",
    "    sns.boxplot(data=dataframe, x=col, ax=axes[i,1])\n",
    "    axes[i,1].set_title(f'Boxplot de {col}')\n",
    "\n",
    "\n",
    "# Eliminar ejes sobrantes si hay menos columnas que subplots:\n",
    "  for j in range(i + 1, len(axes)):\n",
    "    fig.delaxes(axes[j])\n",
    "\n",
    "# Ajustar diseño\n",
    "plt.tight_layout()\n",
    "plt.show()\n"
   ]
  },
  {
   "cell_type": "code",
   "execution_count": 17,
   "id": "15a8fb69",
   "metadata": {},
   "outputs": [
    {
     "data": {
      "image/png": "[encoded data removed]",
      "text/plain": [
       "<Figure size 1500x1500 with 18 Axes>"
      ]
     },
     "metadata": {},
     "output_type": "display_data"
    }
   ],
   "source": [
    "subplot_col_num(df)"
   ]
  },
  {
   "cell_type": "markdown",
   "id": "5b0fcf4c",
   "metadata": {},
   "source": [
    "- price tiene outliers\n",
    "- total_value"
   ]
  },
  {
   "cell_type": "code",
   "execution_count": 18,
   "id": "18d36514",
   "metadata": {},
   "outputs": [],
   "source": [
    "# esta función la he realizado a través del paso a paso que he hecho a cotinuación\n",
    "\n",
    "def calculo_ouliers(df,cols):\n",
    "  for col in cols:\n",
    "    q_75 = df[col].quantile(0.75)\n",
    "    q_25 = df[col].quantile(0.25)\n",
    "    rango_itq = q_75 - q_25\n",
    "    inferior = q_25 - (rango_itq*1.5)\n",
    "    superior = q_75 + (rango_itq*1.5)\n",
    "    \n",
    "    outliers = df[(df[col] < inferior)   |  (df[col] > superior)]\n",
    "    num_outliers = len(outliers)\n",
    "\n",
    "    por_outliers= num_outliers/df.shape[0]*100\n",
    "    print(f' En la columna {col.upper()}, hay un total de {num_outliers} outliers, lo que representa un {por_outliers} %')"
   ]
  },
  {
   "cell_type": "code",
   "execution_count": 19,
   "id": "986feac7",
   "metadata": {},
   "outputs": [
    {
     "data": {
      "text/plain": [
       "np.float64(236.155)"
      ]
     },
     "execution_count": 19,
     "metadata": {},
     "output_type": "execute_result"
    }
   ],
   "source": [
    "q_75 = df['price'].quantile(0.75)\n",
    "q_75"
   ]
  },
  {
   "cell_type": "code",
   "execution_count": 20,
   "id": "111f3bcf",
   "metadata": {},
   "outputs": [
    {
     "data": {
      "text/plain": [
       "np.float64(46.0925)"
      ]
     },
     "execution_count": 20,
     "metadata": {},
     "output_type": "execute_result"
    }
   ],
   "source": [
    "q_25 = df['price'].quantile(0.25)\n",
    "q_25"
   ]
  },
  {
   "cell_type": "code",
   "execution_count": 21,
   "id": "6f144a84",
   "metadata": {},
   "outputs": [
    {
     "data": {
      "text/plain": [
       "np.float64(190.0625)"
      ]
     },
     "execution_count": 21,
     "metadata": {},
     "output_type": "execute_result"
    }
   ],
   "source": [
    "rango_itq = q_75 - q_25\n",
    "rango_itq"
   ]
  },
  {
   "cell_type": "code",
   "execution_count": 22,
   "id": "db8d9903",
   "metadata": {},
   "outputs": [
    {
     "data": {
      "text/plain": [
       "np.float64(-239.00125)"
      ]
     },
     "execution_count": 22,
     "metadata": {},
     "output_type": "execute_result"
    }
   ],
   "source": [
    "inferior = q_25 - (rango_itq*1.5)\n",
    "inferior # todo lo que esté por debajo de -239 es un outlier"
   ]
  },
  {
   "cell_type": "code",
   "execution_count": 23,
   "id": "58ff7751",
   "metadata": {},
   "outputs": [
    {
     "data": {
      "text/plain": [
       "np.float64(521.24875)"
      ]
     },
     "execution_count": 23,
     "metadata": {},
     "output_type": "execute_result"
    }
   ],
   "source": [
    "superior = q_75 + (rango_itq*1.5)\n",
    "superior # y todo lo que esté por encima de 521 también"
   ]
  },
  {
   "cell_type": "code",
   "execution_count": 24,
   "id": "bf7cb2c7",
   "metadata": {},
   "outputs": [
    {
     "data": {
      "text/plain": [
       "161"
      ]
     },
     "execution_count": 24,
     "metadata": {},
     "output_type": "execute_result"
    }
   ],
   "source": [
    "outliers = df[(df['price'] < inferior)   |  (df['price'] > superior)]\n",
    "num_outliers = len(outliers)\n",
    "num_outliers"
   ]
  },
  {
   "cell_type": "code",
   "execution_count": 25,
   "id": "14def6da",
   "metadata": {},
   "outputs": [
    {
     "name": "stdout",
     "output_type": "stream",
     "text": [
      "Mi porcentaje de outliers es 8.05 %\n"
     ]
    }
   ],
   "source": [
    "por_outliers= num_outliers/df.shape[0]*100\n",
    "print(f'Mi porcentaje de outliers es {por_outliers} %')"
   ]
  },
  {
   "cell_type": "code",
   "execution_count": 26,
   "id": "3d10789d",
   "metadata": {},
   "outputs": [
    {
     "name": "stdout",
     "output_type": "stream",
     "text": [
      " En la columna PRICE, hay un total de 161 outliers, lo que representa un 8.05 %\n",
      " En la columna TOTAL_VALUE, hay un total de 247 outliers, lo que representa un 12.35 %\n"
     ]
    }
   ],
   "source": [
    "# Utilizando la función\n",
    "calculo_ouliers(df, ['price', 'total_value'])"
   ]
  },
  {
   "cell_type": "markdown",
   "id": "63defecd",
   "metadata": {},
   "source": [
    "- Los nulos de price y total_value se encuentran por debajo del 5%, por lo que no es óptimo crear una nueva categoría\n",
    "- Además, sus outliers son bastante altos por lo que tampoco es óptimo sustituir por la media o la mediana\n",
    "- -> Hay que utilizar estadísticos avanzados"
   ]
  },
  {
   "cell_type": "markdown",
   "id": "3b001d08",
   "metadata": {},
   "source": [
    "## Nulos numéricas. Segunda parte"
   ]
  },
  {
   "cell_type": "code",
   "execution_count": 27,
   "id": "07e8da4e",
   "metadata": {},
   "outputs": [
    {
     "data": {
      "text/plain": [
       "price           2.0\n",
       "discount        2.0\n",
       "customer_age    2.0\n",
       "dtype: float64"
      ]
     },
     "execution_count": 27,
     "metadata": {},
     "output_type": "execute_result"
    }
   ],
   "source": [
    "df_nulos.select_dtypes(include='number').isnull().mean()*100"
   ]
  },
  {
   "cell_type": "code",
   "execution_count": 28,
   "id": "cff9c3b3",
   "metadata": {},
   "outputs": [
    {
     "data": {
      "text/html": [
       "<div>\n",
       "<style scoped>\n",
       "    .dataframe tbody tr th:only-of-type {\n",
       "        vertical-align: middle;\n",
       "    }\n",
       "\n",
       "    .dataframe tbody tr th {\n",
       "        vertical-align: top;\n",
       "    }\n",
       "\n",
       "    .dataframe thead th {\n",
       "        text-align: right;\n",
       "    }\n",
       "</style>\n",
       "<table border=\"1\" class=\"dataframe\">\n",
       "  <thead>\n",
       "    <tr style=\"text-align: right;\">\n",
       "      <th></th>\n",
       "      <th>count</th>\n",
       "      <th>mean</th>\n",
       "      <th>std</th>\n",
       "      <th>min</th>\n",
       "      <th>25%</th>\n",
       "      <th>50%</th>\n",
       "      <th>75%</th>\n",
       "      <th>max</th>\n",
       "    </tr>\n",
       "  </thead>\n",
       "  <tbody>\n",
       "    <tr>\n",
       "      <th>price</th>\n",
       "      <td>1960.0</td>\n",
       "      <td>184.572138</td>\n",
       "      <td>211.981538</td>\n",
       "      <td>5.02</td>\n",
       "      <td>46.0925</td>\n",
       "      <td>102.465</td>\n",
       "      <td>236.155</td>\n",
       "      <td>998.88</td>\n",
       "    </tr>\n",
       "    <tr>\n",
       "      <th>discount</th>\n",
       "      <td>1960.0</td>\n",
       "      <td>0.150224</td>\n",
       "      <td>0.086591</td>\n",
       "      <td>0.00</td>\n",
       "      <td>0.0800</td>\n",
       "      <td>0.150</td>\n",
       "      <td>0.220</td>\n",
       "      <td>0.30</td>\n",
       "    </tr>\n",
       "    <tr>\n",
       "      <th>customer_age</th>\n",
       "      <td>1960.0</td>\n",
       "      <td>43.156633</td>\n",
       "      <td>15.361675</td>\n",
       "      <td>18.00</td>\n",
       "      <td>30.0000</td>\n",
       "      <td>42.000</td>\n",
       "      <td>56.000</td>\n",
       "      <td>70.00</td>\n",
       "    </tr>\n",
       "  </tbody>\n",
       "</table>\n",
       "</div>"
      ],
      "text/plain": [
       "               count        mean         std    min      25%      50%  \\\n",
       "price         1960.0  184.572138  211.981538   5.02  46.0925  102.465   \n",
       "discount      1960.0    0.150224    0.086591   0.00   0.0800    0.150   \n",
       "customer_age  1960.0   43.156633   15.361675  18.00  30.0000   42.000   \n",
       "\n",
       "                  75%     max  \n",
       "price         236.155  998.88  \n",
       "discount        0.220    0.30  \n",
       "customer_age   56.000   70.00  "
      ]
     },
     "execution_count": 28,
     "metadata": {},
     "output_type": "execute_result"
    }
   ],
   "source": [
    "df_nulos.describe().T"
   ]
  },
  {
   "cell_type": "code",
   "execution_count": 31,
   "id": "d8b6a180",
   "metadata": {},
   "outputs": [],
   "source": [
    "# Vamos a sustituir los valores nulos de discount por su media y los de customer_age por la mediana\n",
    "df_filled_simple = df.fillna({\n",
    "                  'discount' : df['discount'].mean(),\n",
    "                  'customer_age' : df['customer_age'].median()\n",
    "\n",
    "\n",
    "})"
   ]
  },
  {
   "cell_type": "code",
   "execution_count": 32,
   "id": "916cfc84",
   "metadata": {},
   "outputs": [
    {
     "data": {
      "text/plain": [
       "user_id              0\n",
       "group                0\n",
       "visit_date           0\n",
       "conversion           0\n",
       "product_category     0\n",
       "product_id           0\n",
       "product_name         0\n",
       "quantity             0\n",
       "price               40\n",
       "discount             0\n",
       "total_value          0\n",
       "payment_method       0\n",
       "shipping_method      0\n",
       "region               0\n",
       "customer_age         0\n",
       "customer_gender      0\n",
       "device               0\n",
       "session_duration     0\n",
       "coupon_used          0\n",
       "browser              0\n",
       "referral_source      0\n",
       "conversion_str       0\n",
       "dtype: int64"
      ]
     },
     "execution_count": 32,
     "metadata": {},
     "output_type": "execute_result"
    }
   ],
   "source": [
    "df_filled_simple.isnull().sum()"
   ]
  },
  {
   "cell_type": "code",
   "execution_count": 44,
   "id": "7048219f",
   "metadata": {},
   "outputs": [],
   "source": [
    "def imputar_iterative(dataframe, lista_columnas):\n",
    "  iter_imputer = IterativeImputer( max_iter= 50,\n",
    "                                  random_state= 42)\n",
    "  data_imputed = iter_imputer.fit_transform(dataframe[lista_columnas])\n",
    "  new_col = [col + \"_iterative\" for col in lista_columnas]\n",
    "  dataframe[new_col] = data_imputed\n",
    "  return dataframe"
   ]
  },
  {
   "cell_type": "code",
   "execution_count": 52,
   "id": "0d76ace6",
   "metadata": {},
   "outputs": [],
   "source": [
    "def imputar_knn(dataframe, lista_columnas):\n",
    "  knn_imputer = KNNImputer(n_neighbors= 5)\n",
    "  data_imputed = knn_imputer.fit_transform(dataframe[lista_columnas])\n",
    "  new_col = [col + \"_knn\" for col in lista_columnas]\n",
    "  dataframe[new_col] = data_imputed\n",
    "  return dataframe"
   ]
  },
  {
   "cell_type": "code",
   "execution_count": 53,
   "id": "16e34e5f",
   "metadata": {},
   "outputs": [
    {
     "data": {
      "text/html": [
       "<div>\n",
       "<style scoped>\n",
       "    .dataframe tbody tr th:only-of-type {\n",
       "        vertical-align: middle;\n",
       "    }\n",
       "\n",
       "    .dataframe tbody tr th {\n",
       "        vertical-align: top;\n",
       "    }\n",
       "\n",
       "    .dataframe thead th {\n",
       "        text-align: right;\n",
       "    }\n",
       "</style>\n",
       "<table border=\"1\" class=\"dataframe\">\n",
       "  <thead>\n",
       "    <tr style=\"text-align: right;\">\n",
       "      <th></th>\n",
       "      <th>user_id</th>\n",
       "      <th>group</th>\n",
       "      <th>visit_date</th>\n",
       "      <th>conversion</th>\n",
       "      <th>product_category</th>\n",
       "      <th>product_id</th>\n",
       "      <th>product_name</th>\n",
       "      <th>quantity</th>\n",
       "      <th>price</th>\n",
       "      <th>discount</th>\n",
       "      <th>total_value</th>\n",
       "      <th>payment_method</th>\n",
       "      <th>shipping_method</th>\n",
       "      <th>region</th>\n",
       "      <th>customer_age</th>\n",
       "      <th>customer_gender</th>\n",
       "      <th>device</th>\n",
       "      <th>session_duration</th>\n",
       "      <th>coupon_used</th>\n",
       "      <th>browser</th>\n",
       "      <th>referral_source</th>\n",
       "      <th>conversion_str</th>\n",
       "      <th>price_iterative</th>\n",
       "    </tr>\n",
       "  </thead>\n",
       "  <tbody>\n",
       "    <tr>\n",
       "      <th>843</th>\n",
       "      <td>844</td>\n",
       "      <td>b</td>\n",
       "      <td>2022-03-04</td>\n",
       "      <td>0</td>\n",
       "      <td>electronics</td>\n",
       "      <td>1132</td>\n",
       "      <td>smartphone</td>\n",
       "      <td>0</td>\n",
       "      <td>486.63</td>\n",
       "      <td>0.27</td>\n",
       "      <td>0.0</td>\n",
       "      <td>no_conversion</td>\n",
       "      <td>no_conversion</td>\n",
       "      <td>north</td>\n",
       "      <td>45.0</td>\n",
       "      <td>f</td>\n",
       "      <td>mobile</td>\n",
       "      <td>19</td>\n",
       "      <td>no_conversion</td>\n",
       "      <td>safari</td>\n",
       "      <td>paid</td>\n",
       "      <td>no</td>\n",
       "      <td>486.63</td>\n",
       "    </tr>\n",
       "    <tr>\n",
       "      <th>1619</th>\n",
       "      <td>1620</td>\n",
       "      <td>b</td>\n",
       "      <td>2022-02-08</td>\n",
       "      <td>1</td>\n",
       "      <td>electronics</td>\n",
       "      <td>1177</td>\n",
       "      <td>smartphone</td>\n",
       "      <td>4</td>\n",
       "      <td>884.07</td>\n",
       "      <td>0.22</td>\n",
       "      <td>2758.3</td>\n",
       "      <td>credit_card</td>\n",
       "      <td>same_day</td>\n",
       "      <td>central</td>\n",
       "      <td>42.0</td>\n",
       "      <td>f</td>\n",
       "      <td>tablet</td>\n",
       "      <td>29</td>\n",
       "      <td>yes</td>\n",
       "      <td>edge</td>\n",
       "      <td>organic</td>\n",
       "      <td>yes</td>\n",
       "      <td>884.07</td>\n",
       "    </tr>\n",
       "    <tr>\n",
       "      <th>1681</th>\n",
       "      <td>1682</td>\n",
       "      <td>b</td>\n",
       "      <td>2022-03-02</td>\n",
       "      <td>0</td>\n",
       "      <td>home</td>\n",
       "      <td>1170</td>\n",
       "      <td>sofa</td>\n",
       "      <td>0</td>\n",
       "      <td>204.64</td>\n",
       "      <td>0.05</td>\n",
       "      <td>0.0</td>\n",
       "      <td>no_conversion</td>\n",
       "      <td>no_conversion</td>\n",
       "      <td>south</td>\n",
       "      <td>42.0</td>\n",
       "      <td>f</td>\n",
       "      <td>tablet</td>\n",
       "      <td>24</td>\n",
       "      <td>no_conversion</td>\n",
       "      <td>edge</td>\n",
       "      <td>paid</td>\n",
       "      <td>no</td>\n",
       "      <td>204.64</td>\n",
       "    </tr>\n",
       "  </tbody>\n",
       "</table>\n",
       "</div>"
      ],
      "text/plain": [
       "      user_id group  visit_date  conversion product_category  product_id  \\\n",
       "843       844     b  2022-03-04           0      electronics        1132   \n",
       "1619     1620     b  2022-02-08           1      electronics        1177   \n",
       "1681     1682     b  2022-03-02           0             home        1170   \n",
       "\n",
       "     product_name  quantity   price  discount  total_value payment_method  \\\n",
       "843    smartphone         0  486.63      0.27          0.0  no_conversion   \n",
       "1619   smartphone         4  884.07      0.22       2758.3    credit_card   \n",
       "1681         sofa         0  204.64      0.05          0.0  no_conversion   \n",
       "\n",
       "     shipping_method   region  customer_age customer_gender  device  \\\n",
       "843    no_conversion    north          45.0               f  mobile   \n",
       "1619        same_day  central          42.0               f  tablet   \n",
       "1681   no_conversion    south          42.0               f  tablet   \n",
       "\n",
       "      session_duration    coupon_used browser referral_source conversion_str  \\\n",
       "843                 19  no_conversion  safari            paid             no   \n",
       "1619                29            yes    edge         organic            yes   \n",
       "1681                24  no_conversion    edge            paid             no   \n",
       "\n",
       "      price_iterative  \n",
       "843            486.63  \n",
       "1619           884.07  \n",
       "1681           204.64  "
      ]
     },
     "execution_count": 53,
     "metadata": {},
     "output_type": "execute_result"
    }
   ],
   "source": [
    "df_filled_simple = imputar_iterative(df_filled_simple, ['price'])\n",
    "df_filled_simple.sample(3)"
   ]
  },
  {
   "cell_type": "code",
   "execution_count": 54,
   "id": "c23f1f0c",
   "metadata": {},
   "outputs": [
    {
     "data": {
      "text/html": [
       "<div>\n",
       "<style scoped>\n",
       "    .dataframe tbody tr th:only-of-type {\n",
       "        vertical-align: middle;\n",
       "    }\n",
       "\n",
       "    .dataframe tbody tr th {\n",
       "        vertical-align: top;\n",
       "    }\n",
       "\n",
       "    .dataframe thead th {\n",
       "        text-align: right;\n",
       "    }\n",
       "</style>\n",
       "<table border=\"1\" class=\"dataframe\">\n",
       "  <thead>\n",
       "    <tr style=\"text-align: right;\">\n",
       "      <th></th>\n",
       "      <th>user_id</th>\n",
       "      <th>group</th>\n",
       "      <th>visit_date</th>\n",
       "      <th>conversion</th>\n",
       "      <th>product_category</th>\n",
       "      <th>product_id</th>\n",
       "      <th>product_name</th>\n",
       "      <th>quantity</th>\n",
       "      <th>price</th>\n",
       "      <th>discount</th>\n",
       "      <th>total_value</th>\n",
       "      <th>payment_method</th>\n",
       "      <th>shipping_method</th>\n",
       "      <th>region</th>\n",
       "      <th>customer_age</th>\n",
       "      <th>customer_gender</th>\n",
       "      <th>device</th>\n",
       "      <th>session_duration</th>\n",
       "      <th>coupon_used</th>\n",
       "      <th>browser</th>\n",
       "      <th>referral_source</th>\n",
       "      <th>conversion_str</th>\n",
       "      <th>price_iterative</th>\n",
       "      <th>price_knn</th>\n",
       "    </tr>\n",
       "  </thead>\n",
       "  <tbody>\n",
       "    <tr>\n",
       "      <th>748</th>\n",
       "      <td>749</td>\n",
       "      <td>b</td>\n",
       "      <td>2022-03-12</td>\n",
       "      <td>0</td>\n",
       "      <td>electronics</td>\n",
       "      <td>1539</td>\n",
       "      <td>headphones</td>\n",
       "      <td>0</td>\n",
       "      <td>249.31</td>\n",
       "      <td>0.19</td>\n",
       "      <td>0.00</td>\n",
       "      <td>no_conversion</td>\n",
       "      <td>no_conversion</td>\n",
       "      <td>west</td>\n",
       "      <td>66.0</td>\n",
       "      <td>f</td>\n",
       "      <td>desktop</td>\n",
       "      <td>1</td>\n",
       "      <td>no_conversion</td>\n",
       "      <td>chrome</td>\n",
       "      <td>organic</td>\n",
       "      <td>no</td>\n",
       "      <td>249.31</td>\n",
       "      <td>249.31</td>\n",
       "    </tr>\n",
       "    <tr>\n",
       "      <th>1782</th>\n",
       "      <td>1783</td>\n",
       "      <td>a</td>\n",
       "      <td>2022-01-07</td>\n",
       "      <td>0</td>\n",
       "      <td>toys</td>\n",
       "      <td>1422</td>\n",
       "      <td>puzzle</td>\n",
       "      <td>0</td>\n",
       "      <td>34.56</td>\n",
       "      <td>0.09</td>\n",
       "      <td>0.00</td>\n",
       "      <td>no_conversion</td>\n",
       "      <td>no_conversion</td>\n",
       "      <td>central</td>\n",
       "      <td>37.0</td>\n",
       "      <td>other</td>\n",
       "      <td>mobile</td>\n",
       "      <td>22</td>\n",
       "      <td>no_conversion</td>\n",
       "      <td>firefox</td>\n",
       "      <td>paid</td>\n",
       "      <td>no</td>\n",
       "      <td>34.56</td>\n",
       "      <td>34.56</td>\n",
       "    </tr>\n",
       "    <tr>\n",
       "      <th>109</th>\n",
       "      <td>110</td>\n",
       "      <td>a</td>\n",
       "      <td>2022-03-27</td>\n",
       "      <td>1</td>\n",
       "      <td>fashion</td>\n",
       "      <td>1185</td>\n",
       "      <td>jeans</td>\n",
       "      <td>3</td>\n",
       "      <td>148.94</td>\n",
       "      <td>0.22</td>\n",
       "      <td>348.52</td>\n",
       "      <td>bank_transfer</td>\n",
       "      <td>same_day</td>\n",
       "      <td>south</td>\n",
       "      <td>58.0</td>\n",
       "      <td>f</td>\n",
       "      <td>mobile</td>\n",
       "      <td>16</td>\n",
       "      <td>yes</td>\n",
       "      <td>chrome</td>\n",
       "      <td>paid</td>\n",
       "      <td>yes</td>\n",
       "      <td>148.94</td>\n",
       "      <td>148.94</td>\n",
       "    </tr>\n",
       "  </tbody>\n",
       "</table>\n",
       "</div>"
      ],
      "text/plain": [
       "      user_id group  visit_date  conversion product_category  product_id  \\\n",
       "748       749     b  2022-03-12           0      electronics        1539   \n",
       "1782     1783     a  2022-01-07           0             toys        1422   \n",
       "109       110     a  2022-03-27           1          fashion        1185   \n",
       "\n",
       "     product_name  quantity   price  discount  total_value payment_method  \\\n",
       "748    headphones         0  249.31      0.19         0.00  no_conversion   \n",
       "1782       puzzle         0   34.56      0.09         0.00  no_conversion   \n",
       "109         jeans         3  148.94      0.22       348.52  bank_transfer   \n",
       "\n",
       "     shipping_method   region  customer_age customer_gender   device  \\\n",
       "748    no_conversion     west          66.0               f  desktop   \n",
       "1782   no_conversion  central          37.0           other   mobile   \n",
       "109         same_day    south          58.0               f   mobile   \n",
       "\n",
       "      session_duration    coupon_used  browser referral_source conversion_str  \\\n",
       "748                  1  no_conversion   chrome         organic             no   \n",
       "1782                22  no_conversion  firefox            paid             no   \n",
       "109                 16            yes   chrome            paid            yes   \n",
       "\n",
       "      price_iterative  price_knn  \n",
       "748            249.31     249.31  \n",
       "1782            34.56      34.56  \n",
       "109            148.94     148.94  "
      ]
     },
     "execution_count": 54,
     "metadata": {},
     "output_type": "execute_result"
    }
   ],
   "source": [
    "df_filled_simple = imputar_knn(df_filled_simple, ['price'])\n",
    "df_filled_simple.sample(3)"
   ]
  },
  {
   "cell_type": "code",
   "execution_count": 55,
   "id": "8cfc229c",
   "metadata": {},
   "outputs": [
    {
     "data": {
      "text/plain": [
       "user_id              0\n",
       "group                0\n",
       "visit_date           0\n",
       "conversion           0\n",
       "product_category     0\n",
       "product_id           0\n",
       "product_name         0\n",
       "quantity             0\n",
       "price               40\n",
       "discount             0\n",
       "total_value          0\n",
       "payment_method       0\n",
       "shipping_method      0\n",
       "region               0\n",
       "customer_age         0\n",
       "customer_gender      0\n",
       "device               0\n",
       "session_duration     0\n",
       "coupon_used          0\n",
       "browser              0\n",
       "referral_source      0\n",
       "conversion_str       0\n",
       "price_iterative      0\n",
       "price_knn            0\n",
       "dtype: int64"
      ]
     },
     "execution_count": 55,
     "metadata": {},
     "output_type": "execute_result"
    }
   ],
   "source": [
    "df_filled_simple.isnull().sum()"
   ]
  },
  {
   "cell_type": "code",
   "execution_count": null,
   "id": "d4c51d43",
   "metadata": {},
   "outputs": [
    {
     "data": {
      "text/html": [
       "<div>\n",
       "<style scoped>\n",
       "    .dataframe tbody tr th:only-of-type {\n",
       "        vertical-align: middle;\n",
       "    }\n",
       "\n",
       "    .dataframe tbody tr th {\n",
       "        vertical-align: top;\n",
       "    }\n",
       "\n",
       "    .dataframe thead th {\n",
       "        text-align: right;\n",
       "    }\n",
       "</style>\n",
       "<table border=\"1\" class=\"dataframe\">\n",
       "  <thead>\n",
       "    <tr style=\"text-align: right;\">\n",
       "      <th></th>\n",
       "      <th>count</th>\n",
       "      <th>mean</th>\n",
       "      <th>std</th>\n",
       "      <th>min</th>\n",
       "      <th>25%</th>\n",
       "      <th>50%</th>\n",
       "      <th>75%</th>\n",
       "      <th>max</th>\n",
       "    </tr>\n",
       "  </thead>\n",
       "  <tbody>\n",
       "    <tr>\n",
       "      <th>price</th>\n",
       "      <td>1960.0</td>\n",
       "      <td>184.572138</td>\n",
       "      <td>211.981538</td>\n",
       "      <td>5.02</td>\n",
       "      <td>46.0925</td>\n",
       "      <td>102.465</td>\n",
       "      <td>236.1550</td>\n",
       "      <td>998.88</td>\n",
       "    </tr>\n",
       "    <tr>\n",
       "      <th>price_iterative</th>\n",
       "      <td>2000.0</td>\n",
       "      <td>184.572138</td>\n",
       "      <td>209.849945</td>\n",
       "      <td>5.02</td>\n",
       "      <td>46.7975</td>\n",
       "      <td>106.810</td>\n",
       "      <td>231.7425</td>\n",
       "      <td>998.88</td>\n",
       "    </tr>\n",
       "    <tr>\n",
       "      <th>price_knn</th>\n",
       "      <td>2000.0</td>\n",
       "      <td>184.572138</td>\n",
       "      <td>209.849945</td>\n",
       "      <td>5.02</td>\n",
       "      <td>46.7975</td>\n",
       "      <td>106.810</td>\n",
       "      <td>231.7425</td>\n",
       "      <td>998.88</td>\n",
       "    </tr>\n",
       "  </tbody>\n",
       "</table>\n",
       "</div>"
      ],
      "text/plain": [
       "                  count        mean         std   min      25%      50%  \\\n",
       "price            1960.0  184.572138  211.981538  5.02  46.0925  102.465   \n",
       "price_iterative  2000.0  184.572138  209.849945  5.02  46.7975  106.810   \n",
       "price_knn        2000.0  184.572138  209.849945  5.02  46.7975  106.810   \n",
       "\n",
       "                      75%     max  \n",
       "price            236.1550  998.88  \n",
       "price_iterative  231.7425  998.88  \n",
       "price_knn        231.7425  998.88  "
      ]
     },
     "execution_count": 57,
     "metadata": {},
     "output_type": "execute_result"
    }
   ],
   "source": [
    "# Ahora identificiamos si nos quedamos con iterative o con knn\n",
    "df_filled_simple[['price', 'price_iterative', 'price_knn']].describe().T # salen los mismos resultados por lo que no importa cuál escoger."
   ]
  },
  {
   "cell_type": "code",
   "execution_count": 58,
   "id": "ae2357e7",
   "metadata": {},
   "outputs": [],
   "source": [
    "df_filled_simple.drop(columns=['price', 'price_iterative'], inplace=True)"
   ]
  },
  {
   "cell_type": "code",
   "execution_count": 60,
   "id": "1e488954",
   "metadata": {},
   "outputs": [
    {
     "data": {
      "text/plain": [
       "user_id             0\n",
       "group               0\n",
       "visit_date          0\n",
       "conversion          0\n",
       "product_category    0\n",
       "product_id          0\n",
       "product_name        0\n",
       "quantity            0\n",
       "discount            0\n",
       "total_value         0\n",
       "payment_method      0\n",
       "shipping_method     0\n",
       "region              0\n",
       "customer_age        0\n",
       "customer_gender     0\n",
       "device              0\n",
       "session_duration    0\n",
       "coupon_used         0\n",
       "browser             0\n",
       "referral_source     0\n",
       "conversion_str      0\n",
       "price_knn           0\n",
       "dtype: int64"
      ]
     },
     "execution_count": 60,
     "metadata": {},
     "output_type": "execute_result"
    }
   ],
   "source": [
    "df_filled_simple.isnull().sum()"
   ]
  },
  {
   "cell_type": "code",
   "execution_count": 61,
   "id": "05fbf9de",
   "metadata": {},
   "outputs": [],
   "source": [
    "df_filled_simple.to_csv(\"../data/data_limpios_nonulos.csv\", index=False)"
   ]
  }
 ],
 "metadata": {
  "kernelspec": {
   "display_name": ".venv",
   "language": "python",
   "name": "python3"
  },
  "language_info": {
   "codemirror_mode": {
    "name": "ipython",
    "version": 3
   },
   "file_extension": ".py",
   "mimetype": "text/x-python",
   "name": "python",
   "nbconvert_exporter": "python",
   "pygments_lexer": "ipython3",
   "version": "3.12.6"
  }
 },
 "nbformat": 4,
 "nbformat_minor": 5
}
