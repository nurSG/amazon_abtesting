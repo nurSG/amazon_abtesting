{
 "cells": [
  {
   "cell_type": "markdown",
   "id": "d63afe13",
   "metadata": {},
   "source": [
    "## Nulos a gestionar\n",
    "- **Price** -> tiene 40 nulos(2%)\n",
    "- **Discount** -> tiene 40 nulos(2%)\n",
    "- **Payment Method** -> tiene 1753 nulos (87.65%). \n",
    "- **Shipping Method** -> tiene 1753 nulos (87.65%).\n",
    "- **Customer Age** -> tiene 40 nulos (2%)\n",
    "- **Cupon Used** -> tiene 1753 nulos (87.65%)"
   ]
  }
 ],
 "metadata": {
  "language_info": {
   "name": "python"
  }
 },
 "nbformat": 4,
 "nbformat_minor": 5
}
