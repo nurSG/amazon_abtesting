{
 "cells": [
  {
   "cell_type": "markdown",
   "id": "6cf06365",
   "metadata": {},
   "source": [
    "# Cosas a limpiar\n",
    "- **Visit Date** -> cambiar a tipo fecha\n",
    "- **Conversion** -> cambiar a str ?\n",
    "- **Product Category** -> cambiar a minus. Cambiar FASHHION a FASHION\n",
    "- **Product Name** -> cambiar ' ' por '_'\n",
    "- **Product Id** -> cambiar a num??\n",
    "- **Price** -> tiene 40 nulos(2%); cambiar ',' por '.' y cambiar a tipo float\n",
    "- **Discount** -> tiene 40 nulos(2%); cambiar ',' por '.' y cambiar a tipo float\n",
    "- **Total value** -> cambiar ',' por '.' y cambiar a tipo float\n",
    "- **Payment Method** -> tiene 1753 nulos (87.65%). cambiar ' ' por '_'\n",
    "- **Shipping Method** -> tiene 1753 nulos (87.65%). cambiar ' ' por '_'\n",
    "- **Customer Age** -> tiene 40 nulos (2%)\n",
    "- **Device** -> cambiar a minus\n",
    "- **Cupon Used** -> tiene 1753 nulos (87.65%)\n",
    "- **Browser** -> cambiar las categorias porque están mal escritas\n",
    "- **Referral Source** -> cambiar a minus"
   ]
  },
  {
   "cell_type": "code",
   "execution_count": 77,
   "id": "6f19eb11",
   "metadata": {},
   "outputs": [],
   "source": [
    "# Tratamiento de datos\n",
    "import pandas as pd\n",
    "pd.set_option(\"display.max_columns\", None)\n",
    "\n",
    "# Exploración de archivos\n",
    "import sys\n",
    "sys.path.append('../') # necesito esto para la siguiente línea de código; para que busque src en una carpeta anterior\n",
    "\n",
    "# Funciones personalizadas\n",
    "from src import sp_limpieza as sl # Este paso lo he realizado el último, cuando ya he metido todas las funciones en sp_limpieza. Por eso no se ve aplicado a continuación. Si quisiese llamarlo para aplicarlo sería sp.minus por ej."
   ]
  },
  {
   "cell_type": "code",
   "execution_count": 78,
   "id": "c4b8c237",
   "metadata": {},
   "outputs": [
    {
     "data": {
      "text/html": [
       "<div>\n",
       "<style scoped>\n",
       "    .dataframe tbody tr th:only-of-type {\n",
       "        vertical-align: middle;\n",
       "    }\n",
       "\n",
       "    .dataframe tbody tr th {\n",
       "        vertical-align: top;\n",
       "    }\n",
       "\n",
       "    .dataframe thead th {\n",
       "        text-align: right;\n",
       "    }\n",
       "</style>\n",
       "<table border=\"1\" class=\"dataframe\">\n",
       "  <thead>\n",
       "    <tr style=\"text-align: right;\">\n",
       "      <th></th>\n",
       "      <th>User Id</th>\n",
       "      <th>Group</th>\n",
       "      <th>Visit Date</th>\n",
       "      <th>Conversion</th>\n",
       "      <th>Product Category</th>\n",
       "      <th>Product Id</th>\n",
       "      <th>Product Name</th>\n",
       "      <th>Quantity</th>\n",
       "      <th>Price</th>\n",
       "      <th>Discount</th>\n",
       "      <th>Total Value</th>\n",
       "      <th>Payment Method</th>\n",
       "      <th>Shipping Method</th>\n",
       "      <th>Region</th>\n",
       "      <th>Customer Age</th>\n",
       "      <th>Customer Gender</th>\n",
       "      <th>Device</th>\n",
       "      <th>Session Duration</th>\n",
       "      <th>Coupon Used</th>\n",
       "      <th>Browser</th>\n",
       "      <th>Referral Source</th>\n",
       "    </tr>\n",
       "  </thead>\n",
       "  <tbody>\n",
       "    <tr>\n",
       "      <th>1020</th>\n",
       "      <td>1021</td>\n",
       "      <td>B</td>\n",
       "      <td>2022-01-16</td>\n",
       "      <td>0</td>\n",
       "      <td>SPORTS</td>\n",
       "      <td>P1574</td>\n",
       "      <td>Tennis Racket</td>\n",
       "      <td>0</td>\n",
       "      <td>41,14</td>\n",
       "      <td>0,29</td>\n",
       "      <td>0,0</td>\n",
       "      <td>NaN</td>\n",
       "      <td>NaN</td>\n",
       "      <td>Central</td>\n",
       "      <td>21.0</td>\n",
       "      <td>M</td>\n",
       "      <td>Mobile</td>\n",
       "      <td>24</td>\n",
       "      <td>NaN</td>\n",
       "      <td>Ottttther</td>\n",
       "      <td>Email</td>\n",
       "    </tr>\n",
       "    <tr>\n",
       "      <th>1466</th>\n",
       "      <td>1467</td>\n",
       "      <td>B</td>\n",
       "      <td>2022-01-29</td>\n",
       "      <td>0</td>\n",
       "      <td>TOYS</td>\n",
       "      <td>P1433</td>\n",
       "      <td>Puzzle</td>\n",
       "      <td>0</td>\n",
       "      <td>62,69</td>\n",
       "      <td>0,08</td>\n",
       "      <td>0,0</td>\n",
       "      <td>NaN</td>\n",
       "      <td>NaN</td>\n",
       "      <td>South</td>\n",
       "      <td>21.0</td>\n",
       "      <td>M</td>\n",
       "      <td>TABLET</td>\n",
       "      <td>25</td>\n",
       "      <td>NaN</td>\n",
       "      <td>Chrooome</td>\n",
       "      <td>Organic</td>\n",
       "    </tr>\n",
       "    <tr>\n",
       "      <th>1035</th>\n",
       "      <td>1036</td>\n",
       "      <td>B</td>\n",
       "      <td>2022-02-28</td>\n",
       "      <td>0</td>\n",
       "      <td>HOME</td>\n",
       "      <td>P1402</td>\n",
       "      <td>Table</td>\n",
       "      <td>0</td>\n",
       "      <td>470,32</td>\n",
       "      <td>0,02</td>\n",
       "      <td>0,0</td>\n",
       "      <td>NaN</td>\n",
       "      <td>NaN</td>\n",
       "      <td>North</td>\n",
       "      <td>42.0</td>\n",
       "      <td>F</td>\n",
       "      <td>Desktop</td>\n",
       "      <td>2</td>\n",
       "      <td>NaN</td>\n",
       "      <td>Firefoxxxxxx</td>\n",
       "      <td>PAID</td>\n",
       "    </tr>\n",
       "    <tr>\n",
       "      <th>849</th>\n",
       "      <td>850</td>\n",
       "      <td>B</td>\n",
       "      <td>2022-03-23</td>\n",
       "      <td>0</td>\n",
       "      <td>SPORTS</td>\n",
       "      <td>P1245</td>\n",
       "      <td>Football</td>\n",
       "      <td>0</td>\n",
       "      <td>156,24</td>\n",
       "      <td>0,26</td>\n",
       "      <td>0,0</td>\n",
       "      <td>NaN</td>\n",
       "      <td>NaN</td>\n",
       "      <td>East</td>\n",
       "      <td>19.0</td>\n",
       "      <td>F</td>\n",
       "      <td>Desktop</td>\n",
       "      <td>6</td>\n",
       "      <td>NaN</td>\n",
       "      <td>Eddddge</td>\n",
       "      <td>Email</td>\n",
       "    </tr>\n",
       "    <tr>\n",
       "      <th>1349</th>\n",
       "      <td>1350</td>\n",
       "      <td>A</td>\n",
       "      <td>2022-03-14</td>\n",
       "      <td>0</td>\n",
       "      <td>SPORTS</td>\n",
       "      <td>P1733</td>\n",
       "      <td>Tennis Racket</td>\n",
       "      <td>0</td>\n",
       "      <td>180,13</td>\n",
       "      <td>0,23</td>\n",
       "      <td>0,0</td>\n",
       "      <td>NaN</td>\n",
       "      <td>NaN</td>\n",
       "      <td>North</td>\n",
       "      <td>25.0</td>\n",
       "      <td>M</td>\n",
       "      <td>TABLET</td>\n",
       "      <td>3</td>\n",
       "      <td>NaN</td>\n",
       "      <td>Eddddge</td>\n",
       "      <td>Social</td>\n",
       "    </tr>\n",
       "  </tbody>\n",
       "</table>\n",
       "</div>"
      ],
      "text/plain": [
       "      User Id Group  Visit Date  Conversion Product Category Product Id  \\\n",
       "1020     1021     B  2022-01-16           0           SPORTS      P1574   \n",
       "1466     1467     B  2022-01-29           0             TOYS      P1433   \n",
       "1035     1036     B  2022-02-28           0             HOME      P1402   \n",
       "849       850     B  2022-03-23           0           SPORTS      P1245   \n",
       "1349     1350     A  2022-03-14           0           SPORTS      P1733   \n",
       "\n",
       "       Product Name  Quantity   Price Discount Total Value Payment Method  \\\n",
       "1020  Tennis Racket         0   41,14     0,29         0,0            NaN   \n",
       "1466         Puzzle         0   62,69     0,08         0,0            NaN   \n",
       "1035          Table         0  470,32     0,02         0,0            NaN   \n",
       "849        Football         0  156,24     0,26         0,0            NaN   \n",
       "1349  Tennis Racket         0  180,13     0,23         0,0            NaN   \n",
       "\n",
       "     Shipping Method   Region  Customer Age Customer Gender   Device  \\\n",
       "1020             NaN  Central          21.0               M   Mobile   \n",
       "1466             NaN    South          21.0               M   TABLET   \n",
       "1035             NaN    North          42.0               F  Desktop   \n",
       "849              NaN     East          19.0               F  Desktop   \n",
       "1349             NaN    North          25.0               M   TABLET   \n",
       "\n",
       "      Session Duration Coupon Used       Browser Referral Source  \n",
       "1020                24         NaN     Ottttther           Email  \n",
       "1466                25         NaN      Chrooome         Organic  \n",
       "1035                 2         NaN  Firefoxxxxxx            PAID  \n",
       "849                  6         NaN       Eddddge           Email  \n",
       "1349                 3         NaN       Eddddge          Social  "
      ]
     },
     "execution_count": 78,
     "metadata": {},
     "output_type": "execute_result"
    }
   ],
   "source": [
    "df_raw = pd.read_csv(\"../data/data_raw.csv\") # lo llamo raw porque voy a hacer una copia y mantener este como el original\n",
    "df_raw.sample(5)"
   ]
  },
  {
   "cell_type": "markdown",
   "id": "5f656a3b",
   "metadata": {},
   "source": [
    "## Copias"
   ]
  },
  {
   "cell_type": "code",
   "execution_count": 79,
   "id": "07ce783a",
   "metadata": {},
   "outputs": [],
   "source": [
    "df = df_raw.copy()\n",
    "df_f = df_raw.copy()"
   ]
  },
  {
   "cell_type": "markdown",
   "id": "9665b3f3",
   "metadata": {},
   "source": [
    "### Cambios nombres columnas"
   ]
  },
  {
   "cell_type": "code",
   "execution_count": 80,
   "id": "150c83d2",
   "metadata": {},
   "outputs": [],
   "source": [
    "df.columns = df.columns.str.replace(\" \", \"_\").str.lower() # str porque me interesan los nombres y para poder usar los métodos de strings como lower"
   ]
  },
  {
   "cell_type": "code",
   "execution_count": 81,
   "id": "99ced1b2",
   "metadata": {},
   "outputs": [
    {
     "data": {
      "text/plain": [
       "Index(['user_id', 'group', 'visit_date', 'conversion', 'product_category',\n",
       "       'product_id', 'product_name', 'quantity', 'price', 'discount',\n",
       "       'total_value', 'payment_method', 'shipping_method', 'region',\n",
       "       'customer_age', 'customer_gender', 'device', 'session_duration',\n",
       "       'coupon_used', 'browser', 'referral_source'],\n",
       "      dtype='object')"
      ]
     },
     "execution_count": 81,
     "metadata": {},
     "output_type": "execute_result"
    }
   ],
   "source": [
    "df.columns"
   ]
  },
  {
   "cell_type": "markdown",
   "id": "15e99834",
   "metadata": {},
   "source": [
    "### visit_date a fecha"
   ]
  },
  {
   "cell_type": "code",
   "execution_count": 82,
   "id": "fe275662",
   "metadata": {},
   "outputs": [],
   "source": [
    "df['visit_date'] = pd.to_datetime(df['visit_date'], format = '%Y-%m-%d')"
   ]
  },
  {
   "cell_type": "markdown",
   "id": "2ede41b9",
   "metadata": {},
   "source": [
    "### crear conversion_str"
   ]
  },
  {
   "cell_type": "code",
   "execution_count": 83,
   "id": "660633a9",
   "metadata": {},
   "outputs": [],
   "source": [
    "df['conversion_str'] = df['conversion'].apply(lambda x : 'yes' if x == 1 else 'no' )"
   ]
  },
  {
   "cell_type": "markdown",
   "id": "aa467a57",
   "metadata": {},
   "source": [
    "### cambiar product_category a minus y fashhion"
   ]
  },
  {
   "cell_type": "code",
   "execution_count": 84,
   "id": "41d0fa1b",
   "metadata": {},
   "outputs": [],
   "source": [
    "df['product_category'] = df['product_category'].str.lower()"
   ]
  },
  {
   "cell_type": "code",
   "execution_count": 85,
   "id": "ece51ea8",
   "metadata": {},
   "outputs": [],
   "source": [
    "df['product_category'] = df['product_category'].str.replace('fashhion', 'fashion')"
   ]
  },
  {
   "cell_type": "code",
   "execution_count": 86,
   "id": "ba392e9a",
   "metadata": {},
   "outputs": [
    {
     "data": {
      "text/plain": [
       "array(['books', 'beauty', 'fashion', 'sports', 'toys', 'electronics',\n",
       "       'home'], dtype=object)"
      ]
     },
     "execution_count": 86,
     "metadata": {},
     "output_type": "execute_result"
    }
   ],
   "source": [
    "df['product_category'].unique()"
   ]
  },
  {
   "cell_type": "markdown",
   "id": "08f7b9dd",
   "metadata": {},
   "source": [
    "### product_id a num"
   ]
  },
  {
   "cell_type": "code",
   "execution_count": 87,
   "id": "ba849f35",
   "metadata": {},
   "outputs": [],
   "source": [
    "df['product_id'] = df['product_id'].str.replace('P','')\n",
    "df['product_id'] = df['product_id'].astype('Int64')"
   ]
  },
  {
   "cell_type": "markdown",
   "id": "0ad13f0c",
   "metadata": {},
   "source": [
    "### Pasar todo a minúscula"
   ]
  },
  {
   "cell_type": "code",
   "execution_count": 88,
   "id": "b50337e1",
   "metadata": {},
   "outputs": [],
   "source": [
    "def minus(df, col):\n",
    "  df[col] = df[col].str.lower()"
   ]
  },
  {
   "cell_type": "markdown",
   "id": "c5a01d5c",
   "metadata": {},
   "source": [
    "### product_name cambiar \" \" por \"_\""
   ]
  },
  {
   "cell_type": "code",
   "execution_count": 89,
   "id": "3a8c070d",
   "metadata": {},
   "outputs": [],
   "source": [
    "df['product_name'] = df['product_name'].str.replace(\" \",\"_\")"
   ]
  },
  {
   "cell_type": "code",
   "execution_count": 90,
   "id": "e524d35e",
   "metadata": {},
   "outputs": [],
   "source": [
    "minus(df, 'product_name')"
   ]
  },
  {
   "cell_type": "markdown",
   "id": "d5715152",
   "metadata": {},
   "source": [
    "### price. Cambiar comas por puntos y tipo float"
   ]
  },
  {
   "cell_type": "code",
   "execution_count": 91,
   "id": "4ad2b061",
   "metadata": {},
   "outputs": [],
   "source": [
    "def comas(df, col):\n",
    "  df[col] = df[col].str.replace(\",\",\".\")\n",
    "  df[col] = df[col].astype('float')"
   ]
  },
  {
   "cell_type": "code",
   "execution_count": 92,
   "id": "dc7f285e",
   "metadata": {},
   "outputs": [],
   "source": [
    "comas(df, 'price')"
   ]
  },
  {
   "cell_type": "code",
   "execution_count": 93,
   "id": "0c33adf8",
   "metadata": {},
   "outputs": [],
   "source": [
    "comas(df, 'discount')\n",
    "comas(df, 'total_value')"
   ]
  },
  {
   "cell_type": "markdown",
   "id": "e4676f14",
   "metadata": {},
   "source": [
    "### payment_method cambiar \" \" por \"_\""
   ]
  },
  {
   "cell_type": "code",
   "execution_count": 94,
   "id": "eac2761b",
   "metadata": {},
   "outputs": [],
   "source": [
    "def espacios (df, col):\n",
    "  df[col] = df[col].str.replace(\" \",\"_\")"
   ]
  },
  {
   "cell_type": "code",
   "execution_count": 95,
   "id": "c5c40ef5",
   "metadata": {},
   "outputs": [],
   "source": [
    "espacios(df, 'payment_method')\n",
    "espacios(df, 'shipping_method')\n",
    "minus(df, 'payment_method')\n",
    "minus(df, 'shipping_method')"
   ]
  },
  {
   "cell_type": "markdown",
   "id": "1950b2b8",
   "metadata": {},
   "source": [
    "### minus de device, referral_source y browser"
   ]
  },
  {
   "cell_type": "code",
   "execution_count": 96,
   "id": "a583b773",
   "metadata": {},
   "outputs": [],
   "source": [
    "minus(df, 'device')\n",
    "minus(df, 'referral_source')\n",
    "minus(df, 'browser')"
   ]
  },
  {
   "cell_type": "markdown",
   "id": "098d1922",
   "metadata": {},
   "source": [
    "### map de browser"
   ]
  },
  {
   "cell_type": "code",
   "execution_count": 97,
   "id": "5dccce7d",
   "metadata": {},
   "outputs": [
    {
     "data": {
      "text/plain": [
       "array(['safaaaaari', 'ottttther', 'firefoxxxxxx', 'eddddge', 'chrooome'],\n",
       "      dtype=object)"
      ]
     },
     "execution_count": 97,
     "metadata": {},
     "output_type": "execute_result"
    }
   ],
   "source": [
    "df['browser'].unique()"
   ]
  },
  {
   "cell_type": "code",
   "execution_count": 98,
   "id": "38478ac6",
   "metadata": {},
   "outputs": [],
   "source": [
    "dicc_map ={'safaaaaari' : 'safari',\n",
    "            'ottttther' : 'other', \n",
    "            'firefoxxxxxx': 'firefox', \n",
    "            'eddddge': 'edge', \n",
    "            'chrooome': 'chrome'}"
   ]
  },
  {
   "cell_type": "code",
   "execution_count": 99,
   "id": "5256c8ff",
   "metadata": {},
   "outputs": [],
   "source": [
    "df['browser'] = df['browser'].map(dicc_map)"
   ]
  },
  {
   "cell_type": "code",
   "execution_count": 100,
   "id": "e69dd811",
   "metadata": {},
   "outputs": [],
   "source": [
    "sl.minus(df) # aquí es el únic punto donde aplico sl y es lo último que he hecho"
   ]
  },
  {
   "cell_type": "code",
   "execution_count": 112,
   "id": "ffd8c587",
   "metadata": {},
   "outputs": [
    {
     "data": {
      "text/html": [
       "<div>\n",
       "<style scoped>\n",
       "    .dataframe tbody tr th:only-of-type {\n",
       "        vertical-align: middle;\n",
       "    }\n",
       "\n",
       "    .dataframe tbody tr th {\n",
       "        vertical-align: top;\n",
       "    }\n",
       "\n",
       "    .dataframe thead th {\n",
       "        text-align: right;\n",
       "    }\n",
       "</style>\n",
       "<table border=\"1\" class=\"dataframe\">\n",
       "  <thead>\n",
       "    <tr style=\"text-align: right;\">\n",
       "      <th></th>\n",
       "      <th>user_id</th>\n",
       "      <th>group</th>\n",
       "      <th>visit_date</th>\n",
       "      <th>conversion</th>\n",
       "      <th>product_category</th>\n",
       "      <th>product_id</th>\n",
       "      <th>product_name</th>\n",
       "      <th>quantity</th>\n",
       "      <th>price</th>\n",
       "      <th>discount</th>\n",
       "      <th>total_value</th>\n",
       "      <th>payment_method</th>\n",
       "      <th>shipping_method</th>\n",
       "      <th>region</th>\n",
       "      <th>customer_age</th>\n",
       "      <th>customer_gender</th>\n",
       "      <th>device</th>\n",
       "      <th>session_duration</th>\n",
       "      <th>coupon_used</th>\n",
       "      <th>browser</th>\n",
       "      <th>referral_source</th>\n",
       "      <th>conversion_str</th>\n",
       "    </tr>\n",
       "  </thead>\n",
       "  <tbody>\n",
       "    <tr>\n",
       "      <th>1925</th>\n",
       "      <td>1926</td>\n",
       "      <td>a</td>\n",
       "      <td>2022-02-07</td>\n",
       "      <td>0</td>\n",
       "      <td>fashion</td>\n",
       "      <td>1992</td>\n",
       "      <td>sneakers</td>\n",
       "      <td>0</td>\n",
       "      <td>60.70</td>\n",
       "      <td>0.19</td>\n",
       "      <td>0.0</td>\n",
       "      <td>NaN</td>\n",
       "      <td>NaN</td>\n",
       "      <td>west</td>\n",
       "      <td>64.0</td>\n",
       "      <td>m</td>\n",
       "      <td>mobile</td>\n",
       "      <td>8</td>\n",
       "      <td>NaN</td>\n",
       "      <td>chrome</td>\n",
       "      <td>paid</td>\n",
       "      <td>no</td>\n",
       "    </tr>\n",
       "    <tr>\n",
       "      <th>759</th>\n",
       "      <td>760</td>\n",
       "      <td>b</td>\n",
       "      <td>2022-01-13</td>\n",
       "      <td>0</td>\n",
       "      <td>toys</td>\n",
       "      <td>1892</td>\n",
       "      <td>board_game</td>\n",
       "      <td>0</td>\n",
       "      <td>51.61</td>\n",
       "      <td>0.21</td>\n",
       "      <td>0.0</td>\n",
       "      <td>NaN</td>\n",
       "      <td>NaN</td>\n",
       "      <td>east</td>\n",
       "      <td>25.0</td>\n",
       "      <td>f</td>\n",
       "      <td>desktop</td>\n",
       "      <td>5</td>\n",
       "      <td>NaN</td>\n",
       "      <td>other</td>\n",
       "      <td>social</td>\n",
       "      <td>no</td>\n",
       "    </tr>\n",
       "    <tr>\n",
       "      <th>590</th>\n",
       "      <td>591</td>\n",
       "      <td>a</td>\n",
       "      <td>2022-01-31</td>\n",
       "      <td>0</td>\n",
       "      <td>fashion</td>\n",
       "      <td>1975</td>\n",
       "      <td>dress</td>\n",
       "      <td>0</td>\n",
       "      <td>61.11</td>\n",
       "      <td>0.29</td>\n",
       "      <td>0.0</td>\n",
       "      <td>NaN</td>\n",
       "      <td>NaN</td>\n",
       "      <td>west</td>\n",
       "      <td>NaN</td>\n",
       "      <td>m</td>\n",
       "      <td>desktop</td>\n",
       "      <td>9</td>\n",
       "      <td>NaN</td>\n",
       "      <td>safari</td>\n",
       "      <td>paid</td>\n",
       "      <td>no</td>\n",
       "    </tr>\n",
       "    <tr>\n",
       "      <th>1386</th>\n",
       "      <td>1387</td>\n",
       "      <td>b</td>\n",
       "      <td>2022-02-18</td>\n",
       "      <td>0</td>\n",
       "      <td>fashion</td>\n",
       "      <td>1567</td>\n",
       "      <td>jeans</td>\n",
       "      <td>0</td>\n",
       "      <td>173.85</td>\n",
       "      <td>0.23</td>\n",
       "      <td>0.0</td>\n",
       "      <td>NaN</td>\n",
       "      <td>NaN</td>\n",
       "      <td>south</td>\n",
       "      <td>26.0</td>\n",
       "      <td>m</td>\n",
       "      <td>mobile</td>\n",
       "      <td>6</td>\n",
       "      <td>NaN</td>\n",
       "      <td>other</td>\n",
       "      <td>email</td>\n",
       "      <td>no</td>\n",
       "    </tr>\n",
       "    <tr>\n",
       "      <th>1052</th>\n",
       "      <td>1053</td>\n",
       "      <td>b</td>\n",
       "      <td>2022-02-19</td>\n",
       "      <td>0</td>\n",
       "      <td>books</td>\n",
       "      <td>1016</td>\n",
       "      <td>mystery</td>\n",
       "      <td>0</td>\n",
       "      <td>18.20</td>\n",
       "      <td>0.17</td>\n",
       "      <td>0.0</td>\n",
       "      <td>NaN</td>\n",
       "      <td>NaN</td>\n",
       "      <td>west</td>\n",
       "      <td>19.0</td>\n",
       "      <td>m</td>\n",
       "      <td>mobile</td>\n",
       "      <td>20</td>\n",
       "      <td>NaN</td>\n",
       "      <td>chrome</td>\n",
       "      <td>social</td>\n",
       "      <td>no</td>\n",
       "    </tr>\n",
       "  </tbody>\n",
       "</table>\n",
       "</div>"
      ],
      "text/plain": [
       "      user_id group visit_date  conversion product_category  product_id  \\\n",
       "1925     1926     a 2022-02-07           0          fashion        1992   \n",
       "759       760     b 2022-01-13           0             toys        1892   \n",
       "590       591     a 2022-01-31           0          fashion        1975   \n",
       "1386     1387     b 2022-02-18           0          fashion        1567   \n",
       "1052     1053     b 2022-02-19           0            books        1016   \n",
       "\n",
       "     product_name  quantity   price  discount  total_value payment_method  \\\n",
       "1925     sneakers         0   60.70      0.19          0.0            NaN   \n",
       "759    board_game         0   51.61      0.21          0.0            NaN   \n",
       "590         dress         0   61.11      0.29          0.0            NaN   \n",
       "1386        jeans         0  173.85      0.23          0.0            NaN   \n",
       "1052      mystery         0   18.20      0.17          0.0            NaN   \n",
       "\n",
       "     shipping_method region  customer_age customer_gender   device  \\\n",
       "1925             NaN   west          64.0               m   mobile   \n",
       "759              NaN   east          25.0               f  desktop   \n",
       "590              NaN   west           NaN               m  desktop   \n",
       "1386             NaN  south          26.0               m   mobile   \n",
       "1052             NaN   west          19.0               m   mobile   \n",
       "\n",
       "      session_duration coupon_used browser referral_source conversion_str  \n",
       "1925                 8         NaN  chrome            paid             no  \n",
       "759                  5         NaN   other          social             no  \n",
       "590                  9         NaN  safari            paid             no  \n",
       "1386                 6         NaN   other           email             no  \n",
       "1052                20         NaN  chrome          social             no  "
      ]
     },
     "execution_count": 112,
     "metadata": {},
     "output_type": "execute_result"
    }
   ],
   "source": [
    "df.sample(5)"
   ]
  },
  {
   "cell_type": "code",
   "execution_count": 113,
   "id": "473698b7",
   "metadata": {},
   "outputs": [],
   "source": [
    "df.to_csv('../data/data_limpios.csv', index=False)"
   ]
  },
  {
   "cell_type": "markdown",
   "id": "29cf0f83",
   "metadata": {},
   "source": [
    "## Aplicar funciones en todo el conjunto con df_f"
   ]
  },
  {
   "cell_type": "code",
   "execution_count": 102,
   "id": "852a5456",
   "metadata": {},
   "outputs": [
    {
     "data": {
      "text/html": [
       "<div>\n",
       "<style scoped>\n",
       "    .dataframe tbody tr th:only-of-type {\n",
       "        vertical-align: middle;\n",
       "    }\n",
       "\n",
       "    .dataframe tbody tr th {\n",
       "        vertical-align: top;\n",
       "    }\n",
       "\n",
       "    .dataframe thead th {\n",
       "        text-align: right;\n",
       "    }\n",
       "</style>\n",
       "<table border=\"1\" class=\"dataframe\">\n",
       "  <thead>\n",
       "    <tr style=\"text-align: right;\">\n",
       "      <th></th>\n",
       "      <th>User Id</th>\n",
       "      <th>Group</th>\n",
       "      <th>Visit Date</th>\n",
       "      <th>Conversion</th>\n",
       "      <th>Product Category</th>\n",
       "      <th>Product Id</th>\n",
       "      <th>Product Name</th>\n",
       "      <th>Quantity</th>\n",
       "      <th>Price</th>\n",
       "      <th>Discount</th>\n",
       "      <th>Total Value</th>\n",
       "      <th>Payment Method</th>\n",
       "      <th>Shipping Method</th>\n",
       "      <th>Region</th>\n",
       "      <th>Customer Age</th>\n",
       "      <th>Customer Gender</th>\n",
       "      <th>Device</th>\n",
       "      <th>Session Duration</th>\n",
       "      <th>Coupon Used</th>\n",
       "      <th>Browser</th>\n",
       "      <th>Referral Source</th>\n",
       "    </tr>\n",
       "  </thead>\n",
       "  <tbody>\n",
       "    <tr>\n",
       "      <th>918</th>\n",
       "      <td>919</td>\n",
       "      <td>B</td>\n",
       "      <td>2022-01-21</td>\n",
       "      <td>0</td>\n",
       "      <td>SPORTS</td>\n",
       "      <td>P1652</td>\n",
       "      <td>Gym Bag</td>\n",
       "      <td>0</td>\n",
       "      <td>117,94</td>\n",
       "      <td>0,02</td>\n",
       "      <td>0,0</td>\n",
       "      <td>NaN</td>\n",
       "      <td>NaN</td>\n",
       "      <td>West</td>\n",
       "      <td>49.0</td>\n",
       "      <td>M</td>\n",
       "      <td>Desktop</td>\n",
       "      <td>5</td>\n",
       "      <td>NaN</td>\n",
       "      <td>Eddddge</td>\n",
       "      <td>PAID</td>\n",
       "    </tr>\n",
       "    <tr>\n",
       "      <th>1634</th>\n",
       "      <td>1635</td>\n",
       "      <td>B</td>\n",
       "      <td>2022-02-05</td>\n",
       "      <td>0</td>\n",
       "      <td>BOOKS</td>\n",
       "      <td>P1125</td>\n",
       "      <td>Science Fiction</td>\n",
       "      <td>0</td>\n",
       "      <td>19,99</td>\n",
       "      <td>0,18</td>\n",
       "      <td>0,0</td>\n",
       "      <td>NaN</td>\n",
       "      <td>NaN</td>\n",
       "      <td>East</td>\n",
       "      <td>46.0</td>\n",
       "      <td>F</td>\n",
       "      <td>TABLET</td>\n",
       "      <td>6</td>\n",
       "      <td>NaN</td>\n",
       "      <td>Eddddge</td>\n",
       "      <td>Email</td>\n",
       "    </tr>\n",
       "    <tr>\n",
       "      <th>952</th>\n",
       "      <td>953</td>\n",
       "      <td>A</td>\n",
       "      <td>2022-01-07</td>\n",
       "      <td>0</td>\n",
       "      <td>HOME</td>\n",
       "      <td>P1319</td>\n",
       "      <td>Sofa</td>\n",
       "      <td>0</td>\n",
       "      <td>116,06</td>\n",
       "      <td>0,12</td>\n",
       "      <td>0,0</td>\n",
       "      <td>NaN</td>\n",
       "      <td>NaN</td>\n",
       "      <td>South</td>\n",
       "      <td>52.0</td>\n",
       "      <td>F</td>\n",
       "      <td>Desktop</td>\n",
       "      <td>24</td>\n",
       "      <td>NaN</td>\n",
       "      <td>Ottttther</td>\n",
       "      <td>Social</td>\n",
       "    </tr>\n",
       "  </tbody>\n",
       "</table>\n",
       "</div>"
      ],
      "text/plain": [
       "      User Id Group  Visit Date  Conversion Product Category Product Id  \\\n",
       "918       919     B  2022-01-21           0           SPORTS      P1652   \n",
       "1634     1635     B  2022-02-05           0            BOOKS      P1125   \n",
       "952       953     A  2022-01-07           0             HOME      P1319   \n",
       "\n",
       "         Product Name  Quantity   Price Discount Total Value Payment Method  \\\n",
       "918           Gym Bag         0  117,94     0,02         0,0            NaN   \n",
       "1634  Science Fiction         0   19,99     0,18         0,0            NaN   \n",
       "952              Sofa         0  116,06     0,12         0,0            NaN   \n",
       "\n",
       "     Shipping Method Region  Customer Age Customer Gender   Device  \\\n",
       "918              NaN   West          49.0               M  Desktop   \n",
       "1634             NaN   East          46.0               F   TABLET   \n",
       "952              NaN  South          52.0               F  Desktop   \n",
       "\n",
       "      Session Duration Coupon Used    Browser Referral Source  \n",
       "918                  5         NaN    Eddddge            PAID  \n",
       "1634                 6         NaN    Eddddge           Email  \n",
       "952                 24         NaN  Ottttther          Social  "
      ]
     },
     "execution_count": 102,
     "metadata": {},
     "output_type": "execute_result"
    }
   ],
   "source": [
    "df_f.sample(3)"
   ]
  },
  {
   "cell_type": "code",
   "execution_count": 103,
   "id": "49903cf3",
   "metadata": {},
   "outputs": [],
   "source": [
    "def minus(df):\n",
    "  for col in df.select_dtypes(include='O').columns:\n",
    "    df[col]=df[col].str.lower()"
   ]
  },
  {
   "cell_type": "code",
   "execution_count": 104,
   "id": "dbc0fc6c",
   "metadata": {},
   "outputs": [],
   "source": [
    "minus(df_f)"
   ]
  },
  {
   "cell_type": "code",
   "execution_count": 105,
   "id": "ac303c9e",
   "metadata": {},
   "outputs": [],
   "source": [
    "def espacio(df):\n",
    "  for col in df.select_dtypes(include='O').columns:\n",
    "    df[col] = df[col].str.replace(\" \",\"_\")"
   ]
  },
  {
   "cell_type": "code",
   "execution_count": 106,
   "id": "46724611",
   "metadata": {},
   "outputs": [],
   "source": [
    "espacio(df_f)"
   ]
  },
  {
   "cell_type": "code",
   "execution_count": 107,
   "id": "a9c230ae",
   "metadata": {},
   "outputs": [],
   "source": [
    "def coma_float(df):\n",
    "  for col in df.select_dtypes(include='O').columns:\n",
    "    df[col]=df[col].str.replace(\",\",\".\")\n",
    "    try:\n",
    "      df[col]=df[col].astype('float')\n",
    "    except:\n",
    "      pass"
   ]
  },
  {
   "cell_type": "code",
   "execution_count": 108,
   "id": "5f74ca13",
   "metadata": {},
   "outputs": [],
   "source": [
    "coma_float(df_f)"
   ]
  },
  {
   "cell_type": "code",
   "execution_count": 109,
   "id": "5a7bbe9b",
   "metadata": {},
   "outputs": [
    {
     "data": {
      "text/html": [
       "<div>\n",
       "<style scoped>\n",
       "    .dataframe tbody tr th:only-of-type {\n",
       "        vertical-align: middle;\n",
       "    }\n",
       "\n",
       "    .dataframe tbody tr th {\n",
       "        vertical-align: top;\n",
       "    }\n",
       "\n",
       "    .dataframe thead th {\n",
       "        text-align: right;\n",
       "    }\n",
       "</style>\n",
       "<table border=\"1\" class=\"dataframe\">\n",
       "  <thead>\n",
       "    <tr style=\"text-align: right;\">\n",
       "      <th></th>\n",
       "      <th>User Id</th>\n",
       "      <th>Group</th>\n",
       "      <th>Visit Date</th>\n",
       "      <th>Conversion</th>\n",
       "      <th>Product Category</th>\n",
       "      <th>Product Id</th>\n",
       "      <th>Product Name</th>\n",
       "      <th>Quantity</th>\n",
       "      <th>Price</th>\n",
       "      <th>Discount</th>\n",
       "      <th>Total Value</th>\n",
       "      <th>Payment Method</th>\n",
       "      <th>Shipping Method</th>\n",
       "      <th>Region</th>\n",
       "      <th>Customer Age</th>\n",
       "      <th>Customer Gender</th>\n",
       "      <th>Device</th>\n",
       "      <th>Session Duration</th>\n",
       "      <th>Coupon Used</th>\n",
       "      <th>Browser</th>\n",
       "      <th>Referral Source</th>\n",
       "    </tr>\n",
       "  </thead>\n",
       "  <tbody>\n",
       "    <tr>\n",
       "      <th>544</th>\n",
       "      <td>545</td>\n",
       "      <td>b</td>\n",
       "      <td>2022-02-01</td>\n",
       "      <td>1</td>\n",
       "      <td>sports</td>\n",
       "      <td>p1519</td>\n",
       "      <td>tennis_racket</td>\n",
       "      <td>3</td>\n",
       "      <td>236.71</td>\n",
       "      <td>0.09</td>\n",
       "      <td>646.22</td>\n",
       "      <td>paypal</td>\n",
       "      <td>standard</td>\n",
       "      <td>central</td>\n",
       "      <td>20.0</td>\n",
       "      <td>f</td>\n",
       "      <td>desktop</td>\n",
       "      <td>22</td>\n",
       "      <td>yes</td>\n",
       "      <td>eddddge</td>\n",
       "      <td>organic</td>\n",
       "    </tr>\n",
       "    <tr>\n",
       "      <th>1339</th>\n",
       "      <td>1340</td>\n",
       "      <td>a</td>\n",
       "      <td>2022-01-15</td>\n",
       "      <td>0</td>\n",
       "      <td>toys</td>\n",
       "      <td>p1535</td>\n",
       "      <td>board_game</td>\n",
       "      <td>0</td>\n",
       "      <td>62.65</td>\n",
       "      <td>0.04</td>\n",
       "      <td>0.00</td>\n",
       "      <td>NaN</td>\n",
       "      <td>NaN</td>\n",
       "      <td>west</td>\n",
       "      <td>23.0</td>\n",
       "      <td>m</td>\n",
       "      <td>tablet</td>\n",
       "      <td>30</td>\n",
       "      <td>NaN</td>\n",
       "      <td>safaaaaari</td>\n",
       "      <td>paid</td>\n",
       "    </tr>\n",
       "    <tr>\n",
       "      <th>1677</th>\n",
       "      <td>1678</td>\n",
       "      <td>a</td>\n",
       "      <td>2022-02-25</td>\n",
       "      <td>0</td>\n",
       "      <td>sports</td>\n",
       "      <td>p1978</td>\n",
       "      <td>running_shoes</td>\n",
       "      <td>0</td>\n",
       "      <td>68.92</td>\n",
       "      <td>NaN</td>\n",
       "      <td>0.00</td>\n",
       "      <td>NaN</td>\n",
       "      <td>NaN</td>\n",
       "      <td>south</td>\n",
       "      <td>23.0</td>\n",
       "      <td>m</td>\n",
       "      <td>desktop</td>\n",
       "      <td>15</td>\n",
       "      <td>NaN</td>\n",
       "      <td>ottttther</td>\n",
       "      <td>email</td>\n",
       "    </tr>\n",
       "    <tr>\n",
       "      <th>889</th>\n",
       "      <td>890</td>\n",
       "      <td>a</td>\n",
       "      <td>2022-02-18</td>\n",
       "      <td>0</td>\n",
       "      <td>home</td>\n",
       "      <td>p1531</td>\n",
       "      <td>lamp</td>\n",
       "      <td>0</td>\n",
       "      <td>280.08</td>\n",
       "      <td>0.11</td>\n",
       "      <td>0.00</td>\n",
       "      <td>NaN</td>\n",
       "      <td>NaN</td>\n",
       "      <td>south</td>\n",
       "      <td>66.0</td>\n",
       "      <td>f</td>\n",
       "      <td>desktop</td>\n",
       "      <td>14</td>\n",
       "      <td>NaN</td>\n",
       "      <td>firefoxxxxxx</td>\n",
       "      <td>email</td>\n",
       "    </tr>\n",
       "    <tr>\n",
       "      <th>1533</th>\n",
       "      <td>1534</td>\n",
       "      <td>a</td>\n",
       "      <td>2022-02-20</td>\n",
       "      <td>0</td>\n",
       "      <td>toys</td>\n",
       "      <td>p1111</td>\n",
       "      <td>action_figure</td>\n",
       "      <td>0</td>\n",
       "      <td>82.99</td>\n",
       "      <td>0.29</td>\n",
       "      <td>0.00</td>\n",
       "      <td>NaN</td>\n",
       "      <td>NaN</td>\n",
       "      <td>north</td>\n",
       "      <td>60.0</td>\n",
       "      <td>m</td>\n",
       "      <td>desktop</td>\n",
       "      <td>13</td>\n",
       "      <td>NaN</td>\n",
       "      <td>chrooome</td>\n",
       "      <td>social</td>\n",
       "    </tr>\n",
       "  </tbody>\n",
       "</table>\n",
       "</div>"
      ],
      "text/plain": [
       "      User Id Group  Visit Date  Conversion Product Category Product Id  \\\n",
       "544       545     b  2022-02-01           1           sports      p1519   \n",
       "1339     1340     a  2022-01-15           0             toys      p1535   \n",
       "1677     1678     a  2022-02-25           0           sports      p1978   \n",
       "889       890     a  2022-02-18           0             home      p1531   \n",
       "1533     1534     a  2022-02-20           0             toys      p1111   \n",
       "\n",
       "       Product Name  Quantity   Price  Discount  Total Value Payment Method  \\\n",
       "544   tennis_racket         3  236.71      0.09       646.22         paypal   \n",
       "1339     board_game         0   62.65      0.04         0.00            NaN   \n",
       "1677  running_shoes         0   68.92       NaN         0.00            NaN   \n",
       "889            lamp         0  280.08      0.11         0.00            NaN   \n",
       "1533  action_figure         0   82.99      0.29         0.00            NaN   \n",
       "\n",
       "     Shipping Method   Region  Customer Age Customer Gender   Device  \\\n",
       "544         standard  central          20.0               f  desktop   \n",
       "1339             NaN     west          23.0               m   tablet   \n",
       "1677             NaN    south          23.0               m  desktop   \n",
       "889              NaN    south          66.0               f  desktop   \n",
       "1533             NaN    north          60.0               m  desktop   \n",
       "\n",
       "      Session Duration Coupon Used       Browser Referral Source  \n",
       "544                 22         yes       eddddge         organic  \n",
       "1339                30         NaN    safaaaaari            paid  \n",
       "1677                15         NaN     ottttther           email  \n",
       "889                 14         NaN  firefoxxxxxx           email  \n",
       "1533                13         NaN      chrooome          social  "
      ]
     },
     "execution_count": 109,
     "metadata": {},
     "output_type": "execute_result"
    }
   ],
   "source": [
    "df_f.sample(5)"
   ]
  },
  {
   "cell_type": "code",
   "execution_count": 110,
   "id": "ab6a9bd7",
   "metadata": {},
   "outputs": [
    {
     "name": "stdout",
     "output_type": "stream",
     "text": [
      "<class 'pandas.core.frame.DataFrame'>\n",
      "RangeIndex: 2000 entries, 0 to 1999\n",
      "Data columns (total 21 columns):\n",
      " #   Column            Non-Null Count  Dtype  \n",
      "---  ------            --------------  -----  \n",
      " 0   User Id           2000 non-null   int64  \n",
      " 1   Group             2000 non-null   object \n",
      " 2   Visit Date        2000 non-null   object \n",
      " 3   Conversion        2000 non-null   int64  \n",
      " 4   Product Category  2000 non-null   object \n",
      " 5   Product Id        2000 non-null   object \n",
      " 6   Product Name      2000 non-null   object \n",
      " 7   Quantity          2000 non-null   int64  \n",
      " 8   Price             1960 non-null   float64\n",
      " 9   Discount          1960 non-null   float64\n",
      " 10  Total Value       2000 non-null   float64\n",
      " 11  Payment Method    247 non-null    object \n",
      " 12  Shipping Method   247 non-null    object \n",
      " 13  Region            2000 non-null   object \n",
      " 14  Customer Age      1960 non-null   float64\n",
      " 15  Customer Gender   2000 non-null   object \n",
      " 16  Device            2000 non-null   object \n",
      " 17  Session Duration  2000 non-null   int64  \n",
      " 18  Coupon Used       247 non-null    object \n",
      " 19  Browser           2000 non-null   object \n",
      " 20  Referral Source   2000 non-null   object \n",
      "dtypes: float64(4), int64(4), object(13)\n",
      "memory usage: 328.3+ KB\n"
     ]
    }
   ],
   "source": [
    "df_f.info()"
   ]
  }
 ],
 "metadata": {
  "kernelspec": {
   "display_name": ".venv",
   "language": "python",
   "name": "python3"
  },
  "language_info": {
   "codemirror_mode": {
    "name": "ipython",
    "version": 3
   },
   "file_extension": ".py",
   "mimetype": "text/x-python",
   "name": "python",
   "nbconvert_exporter": "python",
   "pygments_lexer": "ipython3",
   "version": "3.12.6"
  }
 },
 "nbformat": 4,
 "nbformat_minor": 5
}
