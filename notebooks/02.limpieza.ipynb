{
 "cells": [
  {
   "cell_type": "markdown",
   "id": "6cf06365",
   "metadata": {},
   "source": [
    "# Cosas a limpiar\n",
    "- **Visit Date** -> cambiar a tipo fecha\n",
    "- **Conversion** -> cambiar a str ?\n",
    "- **Product Category** -> cambiar a minus. Cambiar FASHHION a FASHION\n",
    "- **Product Name** -> cambiar ' ' por '_'\n",
    "- **Product Id** -> cambiar a num??\n",
    "- **Price** -> tiene 40 nulos(2%); cambiar ',' por '.' y cambiar a tipo float\n",
    "- **Discount** -> tiene 40 nulos(2%); cambiar ',' por '.' y cambiar a tipo float\n",
    "- **Total value** -> cambiar ',' por '.' y cambiar a tipo float\n",
    "- **Payment Method** -> tiene 1753 nulos (87.65%). cambiar ' ' por '_'\n",
    "- **Shipping Method** -> tiene 1753 nulos (87.65%). cambiar ' ' por '_'\n",
    "- **Customer Age** -> tiene 40 nulos (2%)\n",
    "- **Device** -> cambiar a minus\n",
    "- **Cupon Used** -> tiene 1753 nulos (87.65%)\n",
    "- **Browser** -> cambiar las categorias porque están mal escritas\n",
    "- **Referral Source** -> cambiar a minus"
   ]
  }
 ],
 "metadata": {
  "language_info": {
   "name": "python"
  }
 },
 "nbformat": 4,
 "nbformat_minor": 5
}
